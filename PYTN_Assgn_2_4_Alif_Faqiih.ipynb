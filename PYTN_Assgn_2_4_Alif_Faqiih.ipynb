{
  "nbformat": 4,
  "nbformat_minor": 0,
  "metadata": {
    "colab": {
      "provenance": []
    },
    "kernelspec": {
      "name": "python3",
      "display_name": "Python 3"
    },
    "language_info": {
      "name": "python"
    }
  },
  "cells": [
    {
      "cell_type": "code",
      "execution_count": 79,
      "metadata": {
        "id": "f5zjars9UfAL"
      },
      "outputs": [],
      "source": [
        "import math\n",
        "import statistics\n",
        "import numpy as np\n",
        "import scipy.stats\n",
        "import pandas as pd\n",
        "import matplotlib.pyplot as plt\n",
        "from IPython.display import Math, Latex\n",
        "from IPython.core.display import Image\n",
        "import seaborn as sns"
      ]
    },
    {
      "cell_type": "code",
      "source": [
        "df = pd.read_csv('nyc-rolling-sales.csv')\n",
        "\n",
        "print('Dataset is ready!')"
      ],
      "metadata": {
        "colab": {
          "base_uri": "https://localhost:8080/"
        },
        "id": "drzKTn_pU4Ue",
        "outputId": "304658d3-c8c3-426a-dedd-499e30b01375"
      },
      "execution_count": 80,
      "outputs": [
        {
          "output_type": "stream",
          "name": "stdout",
          "text": [
            "Dataset is ready!\n"
          ]
        }
      ]
    },
    {
      "cell_type": "code",
      "source": [
        "df.head() #menampilkan 5 data teratas"
      ],
      "metadata": {
        "colab": {
          "base_uri": "https://localhost:8080/",
          "height": 629
        },
        "id": "w5n-7VWUVLZx",
        "outputId": "386fb989-630a-4841-b79a-82b6886d0ac7"
      },
      "execution_count": 81,
      "outputs": [
        {
          "output_type": "execute_result",
          "data": {
            "text/plain": [
              "   Unnamed: 0  BOROUGH   NEIGHBORHOOD  \\\n",
              "0           4        1  ALPHABET CITY   \n",
              "1           5        1  ALPHABET CITY   \n",
              "2           6        1  ALPHABET CITY   \n",
              "3           7        1  ALPHABET CITY   \n",
              "4           8        1  ALPHABET CITY   \n",
              "\n",
              "                       BUILDING CLASS CATEGORY TAX CLASS AT PRESENT  BLOCK  \\\n",
              "0  07 RENTALS - WALKUP APARTMENTS                                2A    392   \n",
              "1  07 RENTALS - WALKUP APARTMENTS                                 2    399   \n",
              "2  07 RENTALS - WALKUP APARTMENTS                                 2    399   \n",
              "3  07 RENTALS - WALKUP APARTMENTS                                2B    402   \n",
              "4  07 RENTALS - WALKUP APARTMENTS                                2A    404   \n",
              "\n",
              "   LOT EASE-MENT BUILDING CLASS AT PRESENT                 ADDRESS  ...  \\\n",
              "0    6                                  C2            153 AVENUE B  ...   \n",
              "1   26                                  C7   234 EAST 4TH   STREET  ...   \n",
              "2   39                                  C7   197 EAST 3RD   STREET  ...   \n",
              "3   21                                  C4     154 EAST 7TH STREET  ...   \n",
              "4   55                                  C2  301 EAST 10TH   STREET  ...   \n",
              "\n",
              "  RESIDENTIAL UNITS  COMMERCIAL UNITS  TOTAL UNITS  LAND SQUARE FEET  \\\n",
              "0                 5                 0            5              1633   \n",
              "1                28                 3           31              4616   \n",
              "2                16                 1           17              2212   \n",
              "3                10                 0           10              2272   \n",
              "4                 6                 0            6              2369   \n",
              "\n",
              "   GROSS SQUARE FEET YEAR BUILT TAX CLASS AT TIME OF SALE  \\\n",
              "0               6440       1900                         2   \n",
              "1              18690       1900                         2   \n",
              "2               7803       1900                         2   \n",
              "3               6794       1913                         2   \n",
              "4               4615       1900                         2   \n",
              "\n",
              "   BUILDING CLASS AT TIME OF SALE  SALE PRICE            SALE DATE  \n",
              "0                              C2     6625000  2017-07-19 00:00:00  \n",
              "1                              C7         -    2016-12-14 00:00:00  \n",
              "2                              C7         -    2016-12-09 00:00:00  \n",
              "3                              C4     3936272  2016-09-23 00:00:00  \n",
              "4                              C2     8000000  2016-11-17 00:00:00  \n",
              "\n",
              "[5 rows x 22 columns]"
            ],
            "text/html": [
              "\n",
              "  <div id=\"df-25d20c7c-98fe-46f8-b27f-f9b29cd6918c\">\n",
              "    <div class=\"colab-df-container\">\n",
              "      <div>\n",
              "<style scoped>\n",
              "    .dataframe tbody tr th:only-of-type {\n",
              "        vertical-align: middle;\n",
              "    }\n",
              "\n",
              "    .dataframe tbody tr th {\n",
              "        vertical-align: top;\n",
              "    }\n",
              "\n",
              "    .dataframe thead th {\n",
              "        text-align: right;\n",
              "    }\n",
              "</style>\n",
              "<table border=\"1\" class=\"dataframe\">\n",
              "  <thead>\n",
              "    <tr style=\"text-align: right;\">\n",
              "      <th></th>\n",
              "      <th>Unnamed: 0</th>\n",
              "      <th>BOROUGH</th>\n",
              "      <th>NEIGHBORHOOD</th>\n",
              "      <th>BUILDING CLASS CATEGORY</th>\n",
              "      <th>TAX CLASS AT PRESENT</th>\n",
              "      <th>BLOCK</th>\n",
              "      <th>LOT</th>\n",
              "      <th>EASE-MENT</th>\n",
              "      <th>BUILDING CLASS AT PRESENT</th>\n",
              "      <th>ADDRESS</th>\n",
              "      <th>...</th>\n",
              "      <th>RESIDENTIAL UNITS</th>\n",
              "      <th>COMMERCIAL UNITS</th>\n",
              "      <th>TOTAL UNITS</th>\n",
              "      <th>LAND SQUARE FEET</th>\n",
              "      <th>GROSS SQUARE FEET</th>\n",
              "      <th>YEAR BUILT</th>\n",
              "      <th>TAX CLASS AT TIME OF SALE</th>\n",
              "      <th>BUILDING CLASS AT TIME OF SALE</th>\n",
              "      <th>SALE PRICE</th>\n",
              "      <th>SALE DATE</th>\n",
              "    </tr>\n",
              "  </thead>\n",
              "  <tbody>\n",
              "    <tr>\n",
              "      <th>0</th>\n",
              "      <td>4</td>\n",
              "      <td>1</td>\n",
              "      <td>ALPHABET CITY</td>\n",
              "      <td>07 RENTALS - WALKUP APARTMENTS</td>\n",
              "      <td>2A</td>\n",
              "      <td>392</td>\n",
              "      <td>6</td>\n",
              "      <td></td>\n",
              "      <td>C2</td>\n",
              "      <td>153 AVENUE B</td>\n",
              "      <td>...</td>\n",
              "      <td>5</td>\n",
              "      <td>0</td>\n",
              "      <td>5</td>\n",
              "      <td>1633</td>\n",
              "      <td>6440</td>\n",
              "      <td>1900</td>\n",
              "      <td>2</td>\n",
              "      <td>C2</td>\n",
              "      <td>6625000</td>\n",
              "      <td>2017-07-19 00:00:00</td>\n",
              "    </tr>\n",
              "    <tr>\n",
              "      <th>1</th>\n",
              "      <td>5</td>\n",
              "      <td>1</td>\n",
              "      <td>ALPHABET CITY</td>\n",
              "      <td>07 RENTALS - WALKUP APARTMENTS</td>\n",
              "      <td>2</td>\n",
              "      <td>399</td>\n",
              "      <td>26</td>\n",
              "      <td></td>\n",
              "      <td>C7</td>\n",
              "      <td>234 EAST 4TH   STREET</td>\n",
              "      <td>...</td>\n",
              "      <td>28</td>\n",
              "      <td>3</td>\n",
              "      <td>31</td>\n",
              "      <td>4616</td>\n",
              "      <td>18690</td>\n",
              "      <td>1900</td>\n",
              "      <td>2</td>\n",
              "      <td>C7</td>\n",
              "      <td>-</td>\n",
              "      <td>2016-12-14 00:00:00</td>\n",
              "    </tr>\n",
              "    <tr>\n",
              "      <th>2</th>\n",
              "      <td>6</td>\n",
              "      <td>1</td>\n",
              "      <td>ALPHABET CITY</td>\n",
              "      <td>07 RENTALS - WALKUP APARTMENTS</td>\n",
              "      <td>2</td>\n",
              "      <td>399</td>\n",
              "      <td>39</td>\n",
              "      <td></td>\n",
              "      <td>C7</td>\n",
              "      <td>197 EAST 3RD   STREET</td>\n",
              "      <td>...</td>\n",
              "      <td>16</td>\n",
              "      <td>1</td>\n",
              "      <td>17</td>\n",
              "      <td>2212</td>\n",
              "      <td>7803</td>\n",
              "      <td>1900</td>\n",
              "      <td>2</td>\n",
              "      <td>C7</td>\n",
              "      <td>-</td>\n",
              "      <td>2016-12-09 00:00:00</td>\n",
              "    </tr>\n",
              "    <tr>\n",
              "      <th>3</th>\n",
              "      <td>7</td>\n",
              "      <td>1</td>\n",
              "      <td>ALPHABET CITY</td>\n",
              "      <td>07 RENTALS - WALKUP APARTMENTS</td>\n",
              "      <td>2B</td>\n",
              "      <td>402</td>\n",
              "      <td>21</td>\n",
              "      <td></td>\n",
              "      <td>C4</td>\n",
              "      <td>154 EAST 7TH STREET</td>\n",
              "      <td>...</td>\n",
              "      <td>10</td>\n",
              "      <td>0</td>\n",
              "      <td>10</td>\n",
              "      <td>2272</td>\n",
              "      <td>6794</td>\n",
              "      <td>1913</td>\n",
              "      <td>2</td>\n",
              "      <td>C4</td>\n",
              "      <td>3936272</td>\n",
              "      <td>2016-09-23 00:00:00</td>\n",
              "    </tr>\n",
              "    <tr>\n",
              "      <th>4</th>\n",
              "      <td>8</td>\n",
              "      <td>1</td>\n",
              "      <td>ALPHABET CITY</td>\n",
              "      <td>07 RENTALS - WALKUP APARTMENTS</td>\n",
              "      <td>2A</td>\n",
              "      <td>404</td>\n",
              "      <td>55</td>\n",
              "      <td></td>\n",
              "      <td>C2</td>\n",
              "      <td>301 EAST 10TH   STREET</td>\n",
              "      <td>...</td>\n",
              "      <td>6</td>\n",
              "      <td>0</td>\n",
              "      <td>6</td>\n",
              "      <td>2369</td>\n",
              "      <td>4615</td>\n",
              "      <td>1900</td>\n",
              "      <td>2</td>\n",
              "      <td>C2</td>\n",
              "      <td>8000000</td>\n",
              "      <td>2016-11-17 00:00:00</td>\n",
              "    </tr>\n",
              "  </tbody>\n",
              "</table>\n",
              "<p>5 rows × 22 columns</p>\n",
              "</div>\n",
              "      <button class=\"colab-df-convert\" onclick=\"convertToInteractive('df-25d20c7c-98fe-46f8-b27f-f9b29cd6918c')\"\n",
              "              title=\"Convert this dataframe to an interactive table.\"\n",
              "              style=\"display:none;\">\n",
              "        \n",
              "  <svg xmlns=\"http://www.w3.org/2000/svg\" height=\"24px\"viewBox=\"0 0 24 24\"\n",
              "       width=\"24px\">\n",
              "    <path d=\"M0 0h24v24H0V0z\" fill=\"none\"/>\n",
              "    <path d=\"M18.56 5.44l.94 2.06.94-2.06 2.06-.94-2.06-.94-.94-2.06-.94 2.06-2.06.94zm-11 1L8.5 8.5l.94-2.06 2.06-.94-2.06-.94L8.5 2.5l-.94 2.06-2.06.94zm10 10l.94 2.06.94-2.06 2.06-.94-2.06-.94-.94-2.06-.94 2.06-2.06.94z\"/><path d=\"M17.41 7.96l-1.37-1.37c-.4-.4-.92-.59-1.43-.59-.52 0-1.04.2-1.43.59L10.3 9.45l-7.72 7.72c-.78.78-.78 2.05 0 2.83L4 21.41c.39.39.9.59 1.41.59.51 0 1.02-.2 1.41-.59l7.78-7.78 2.81-2.81c.8-.78.8-2.07 0-2.86zM5.41 20L4 18.59l7.72-7.72 1.47 1.35L5.41 20z\"/>\n",
              "  </svg>\n",
              "      </button>\n",
              "      \n",
              "  <style>\n",
              "    .colab-df-container {\n",
              "      display:flex;\n",
              "      flex-wrap:wrap;\n",
              "      gap: 12px;\n",
              "    }\n",
              "\n",
              "    .colab-df-convert {\n",
              "      background-color: #E8F0FE;\n",
              "      border: none;\n",
              "      border-radius: 50%;\n",
              "      cursor: pointer;\n",
              "      display: none;\n",
              "      fill: #1967D2;\n",
              "      height: 32px;\n",
              "      padding: 0 0 0 0;\n",
              "      width: 32px;\n",
              "    }\n",
              "\n",
              "    .colab-df-convert:hover {\n",
              "      background-color: #E2EBFA;\n",
              "      box-shadow: 0px 1px 2px rgba(60, 64, 67, 0.3), 0px 1px 3px 1px rgba(60, 64, 67, 0.15);\n",
              "      fill: #174EA6;\n",
              "    }\n",
              "\n",
              "    [theme=dark] .colab-df-convert {\n",
              "      background-color: #3B4455;\n",
              "      fill: #D2E3FC;\n",
              "    }\n",
              "\n",
              "    [theme=dark] .colab-df-convert:hover {\n",
              "      background-color: #434B5C;\n",
              "      box-shadow: 0px 1px 3px 1px rgba(0, 0, 0, 0.15);\n",
              "      filter: drop-shadow(0px 1px 2px rgba(0, 0, 0, 0.3));\n",
              "      fill: #FFFFFF;\n",
              "    }\n",
              "  </style>\n",
              "\n",
              "      <script>\n",
              "        const buttonEl =\n",
              "          document.querySelector('#df-25d20c7c-98fe-46f8-b27f-f9b29cd6918c button.colab-df-convert');\n",
              "        buttonEl.style.display =\n",
              "          google.colab.kernel.accessAllowed ? 'block' : 'none';\n",
              "\n",
              "        async function convertToInteractive(key) {\n",
              "          const element = document.querySelector('#df-25d20c7c-98fe-46f8-b27f-f9b29cd6918c');\n",
              "          const dataTable =\n",
              "            await google.colab.kernel.invokeFunction('convertToInteractive',\n",
              "                                                     [key], {});\n",
              "          if (!dataTable) return;\n",
              "\n",
              "          const docLinkHtml = 'Like what you see? Visit the ' +\n",
              "            '<a target=\"_blank\" href=https://colab.research.google.com/notebooks/data_table.ipynb>data table notebook</a>'\n",
              "            + ' to learn more about interactive tables.';\n",
              "          element.innerHTML = '';\n",
              "          dataTable['output_type'] = 'display_data';\n",
              "          await google.colab.output.renderOutput(dataTable, element);\n",
              "          const docLink = document.createElement('div');\n",
              "          docLink.innerHTML = docLinkHtml;\n",
              "          element.appendChild(docLink);\n",
              "        }\n",
              "      </script>\n",
              "    </div>\n",
              "  </div>\n",
              "  "
            ]
          },
          "metadata": {},
          "execution_count": 81
        }
      ]
    },
    {
      "cell_type": "code",
      "source": [
        "df.tail() #menampilkan 5 data terbawah"
      ],
      "metadata": {
        "colab": {
          "base_uri": "https://localhost:8080/",
          "height": 595
        },
        "id": "UhSJRdEhVN9P",
        "outputId": "8f560724-f72a-48b0-c135-e4ffed2c813f"
      },
      "execution_count": 82,
      "outputs": [
        {
          "output_type": "execute_result",
          "data": {
            "text/plain": [
              "       Unnamed: 0  BOROUGH NEIGHBORHOOD  \\\n",
              "84543        8409        5      WOODROW   \n",
              "84544        8410        5      WOODROW   \n",
              "84545        8411        5      WOODROW   \n",
              "84546        8412        5      WOODROW   \n",
              "84547        8413        5      WOODROW   \n",
              "\n",
              "                           BUILDING CLASS CATEGORY TAX CLASS AT PRESENT  \\\n",
              "84543  02 TWO FAMILY DWELLINGS                                        1   \n",
              "84544  02 TWO FAMILY DWELLINGS                                        1   \n",
              "84545  02 TWO FAMILY DWELLINGS                                        1   \n",
              "84546  22 STORE BUILDINGS                                             4   \n",
              "84547  35 INDOOR PUBLIC AND CULTURAL FACILITIES                       4   \n",
              "\n",
              "       BLOCK  LOT EASE-MENT BUILDING CLASS AT PRESENT                ADDRESS  \\\n",
              "84543   7349   34                                  B9          37 QUAIL LANE   \n",
              "84544   7349   78                                  B9       32 PHEASANT LANE   \n",
              "84545   7351   60                                  B2       49 PITNEY AVENUE   \n",
              "84546   7100   28                                  K6  2730 ARTHUR KILL ROAD   \n",
              "84547   7105  679                                  P9      155 CLAY PIT ROAD   \n",
              "\n",
              "       ... RESIDENTIAL UNITS  COMMERCIAL UNITS  TOTAL UNITS  LAND SQUARE FEET  \\\n",
              "84543  ...                 2                 0            2              2400   \n",
              "84544  ...                 2                 0            2              2498   \n",
              "84545  ...                 2                 0            2              4000   \n",
              "84546  ...                 0                 7            7            208033   \n",
              "84547  ...                 0                 1            1             10796   \n",
              "\n",
              "       GROSS SQUARE FEET YEAR BUILT TAX CLASS AT TIME OF SALE  \\\n",
              "84543               2575       1998                         1   \n",
              "84544               2377       1998                         1   \n",
              "84545               1496       1925                         1   \n",
              "84546              64117       2001                         4   \n",
              "84547               2400       2006                         4   \n",
              "\n",
              "       BUILDING CLASS AT TIME OF SALE  SALE PRICE            SALE DATE  \n",
              "84543                              B9      450000  2016-11-28 00:00:00  \n",
              "84544                              B9      550000  2017-04-21 00:00:00  \n",
              "84545                              B2      460000  2017-07-05 00:00:00  \n",
              "84546                              K6    11693337  2016-12-21 00:00:00  \n",
              "84547                              P9       69300  2016-10-27 00:00:00  \n",
              "\n",
              "[5 rows x 22 columns]"
            ],
            "text/html": [
              "\n",
              "  <div id=\"df-b258552d-e22a-40cb-a805-309f8fb28ca6\">\n",
              "    <div class=\"colab-df-container\">\n",
              "      <div>\n",
              "<style scoped>\n",
              "    .dataframe tbody tr th:only-of-type {\n",
              "        vertical-align: middle;\n",
              "    }\n",
              "\n",
              "    .dataframe tbody tr th {\n",
              "        vertical-align: top;\n",
              "    }\n",
              "\n",
              "    .dataframe thead th {\n",
              "        text-align: right;\n",
              "    }\n",
              "</style>\n",
              "<table border=\"1\" class=\"dataframe\">\n",
              "  <thead>\n",
              "    <tr style=\"text-align: right;\">\n",
              "      <th></th>\n",
              "      <th>Unnamed: 0</th>\n",
              "      <th>BOROUGH</th>\n",
              "      <th>NEIGHBORHOOD</th>\n",
              "      <th>BUILDING CLASS CATEGORY</th>\n",
              "      <th>TAX CLASS AT PRESENT</th>\n",
              "      <th>BLOCK</th>\n",
              "      <th>LOT</th>\n",
              "      <th>EASE-MENT</th>\n",
              "      <th>BUILDING CLASS AT PRESENT</th>\n",
              "      <th>ADDRESS</th>\n",
              "      <th>...</th>\n",
              "      <th>RESIDENTIAL UNITS</th>\n",
              "      <th>COMMERCIAL UNITS</th>\n",
              "      <th>TOTAL UNITS</th>\n",
              "      <th>LAND SQUARE FEET</th>\n",
              "      <th>GROSS SQUARE FEET</th>\n",
              "      <th>YEAR BUILT</th>\n",
              "      <th>TAX CLASS AT TIME OF SALE</th>\n",
              "      <th>BUILDING CLASS AT TIME OF SALE</th>\n",
              "      <th>SALE PRICE</th>\n",
              "      <th>SALE DATE</th>\n",
              "    </tr>\n",
              "  </thead>\n",
              "  <tbody>\n",
              "    <tr>\n",
              "      <th>84543</th>\n",
              "      <td>8409</td>\n",
              "      <td>5</td>\n",
              "      <td>WOODROW</td>\n",
              "      <td>02 TWO FAMILY DWELLINGS</td>\n",
              "      <td>1</td>\n",
              "      <td>7349</td>\n",
              "      <td>34</td>\n",
              "      <td></td>\n",
              "      <td>B9</td>\n",
              "      <td>37 QUAIL LANE</td>\n",
              "      <td>...</td>\n",
              "      <td>2</td>\n",
              "      <td>0</td>\n",
              "      <td>2</td>\n",
              "      <td>2400</td>\n",
              "      <td>2575</td>\n",
              "      <td>1998</td>\n",
              "      <td>1</td>\n",
              "      <td>B9</td>\n",
              "      <td>450000</td>\n",
              "      <td>2016-11-28 00:00:00</td>\n",
              "    </tr>\n",
              "    <tr>\n",
              "      <th>84544</th>\n",
              "      <td>8410</td>\n",
              "      <td>5</td>\n",
              "      <td>WOODROW</td>\n",
              "      <td>02 TWO FAMILY DWELLINGS</td>\n",
              "      <td>1</td>\n",
              "      <td>7349</td>\n",
              "      <td>78</td>\n",
              "      <td></td>\n",
              "      <td>B9</td>\n",
              "      <td>32 PHEASANT LANE</td>\n",
              "      <td>...</td>\n",
              "      <td>2</td>\n",
              "      <td>0</td>\n",
              "      <td>2</td>\n",
              "      <td>2498</td>\n",
              "      <td>2377</td>\n",
              "      <td>1998</td>\n",
              "      <td>1</td>\n",
              "      <td>B9</td>\n",
              "      <td>550000</td>\n",
              "      <td>2017-04-21 00:00:00</td>\n",
              "    </tr>\n",
              "    <tr>\n",
              "      <th>84545</th>\n",
              "      <td>8411</td>\n",
              "      <td>5</td>\n",
              "      <td>WOODROW</td>\n",
              "      <td>02 TWO FAMILY DWELLINGS</td>\n",
              "      <td>1</td>\n",
              "      <td>7351</td>\n",
              "      <td>60</td>\n",
              "      <td></td>\n",
              "      <td>B2</td>\n",
              "      <td>49 PITNEY AVENUE</td>\n",
              "      <td>...</td>\n",
              "      <td>2</td>\n",
              "      <td>0</td>\n",
              "      <td>2</td>\n",
              "      <td>4000</td>\n",
              "      <td>1496</td>\n",
              "      <td>1925</td>\n",
              "      <td>1</td>\n",
              "      <td>B2</td>\n",
              "      <td>460000</td>\n",
              "      <td>2017-07-05 00:00:00</td>\n",
              "    </tr>\n",
              "    <tr>\n",
              "      <th>84546</th>\n",
              "      <td>8412</td>\n",
              "      <td>5</td>\n",
              "      <td>WOODROW</td>\n",
              "      <td>22 STORE BUILDINGS</td>\n",
              "      <td>4</td>\n",
              "      <td>7100</td>\n",
              "      <td>28</td>\n",
              "      <td></td>\n",
              "      <td>K6</td>\n",
              "      <td>2730 ARTHUR KILL ROAD</td>\n",
              "      <td>...</td>\n",
              "      <td>0</td>\n",
              "      <td>7</td>\n",
              "      <td>7</td>\n",
              "      <td>208033</td>\n",
              "      <td>64117</td>\n",
              "      <td>2001</td>\n",
              "      <td>4</td>\n",
              "      <td>K6</td>\n",
              "      <td>11693337</td>\n",
              "      <td>2016-12-21 00:00:00</td>\n",
              "    </tr>\n",
              "    <tr>\n",
              "      <th>84547</th>\n",
              "      <td>8413</td>\n",
              "      <td>5</td>\n",
              "      <td>WOODROW</td>\n",
              "      <td>35 INDOOR PUBLIC AND CULTURAL FACILITIES</td>\n",
              "      <td>4</td>\n",
              "      <td>7105</td>\n",
              "      <td>679</td>\n",
              "      <td></td>\n",
              "      <td>P9</td>\n",
              "      <td>155 CLAY PIT ROAD</td>\n",
              "      <td>...</td>\n",
              "      <td>0</td>\n",
              "      <td>1</td>\n",
              "      <td>1</td>\n",
              "      <td>10796</td>\n",
              "      <td>2400</td>\n",
              "      <td>2006</td>\n",
              "      <td>4</td>\n",
              "      <td>P9</td>\n",
              "      <td>69300</td>\n",
              "      <td>2016-10-27 00:00:00</td>\n",
              "    </tr>\n",
              "  </tbody>\n",
              "</table>\n",
              "<p>5 rows × 22 columns</p>\n",
              "</div>\n",
              "      <button class=\"colab-df-convert\" onclick=\"convertToInteractive('df-b258552d-e22a-40cb-a805-309f8fb28ca6')\"\n",
              "              title=\"Convert this dataframe to an interactive table.\"\n",
              "              style=\"display:none;\">\n",
              "        \n",
              "  <svg xmlns=\"http://www.w3.org/2000/svg\" height=\"24px\"viewBox=\"0 0 24 24\"\n",
              "       width=\"24px\">\n",
              "    <path d=\"M0 0h24v24H0V0z\" fill=\"none\"/>\n",
              "    <path d=\"M18.56 5.44l.94 2.06.94-2.06 2.06-.94-2.06-.94-.94-2.06-.94 2.06-2.06.94zm-11 1L8.5 8.5l.94-2.06 2.06-.94-2.06-.94L8.5 2.5l-.94 2.06-2.06.94zm10 10l.94 2.06.94-2.06 2.06-.94-2.06-.94-.94-2.06-.94 2.06-2.06.94z\"/><path d=\"M17.41 7.96l-1.37-1.37c-.4-.4-.92-.59-1.43-.59-.52 0-1.04.2-1.43.59L10.3 9.45l-7.72 7.72c-.78.78-.78 2.05 0 2.83L4 21.41c.39.39.9.59 1.41.59.51 0 1.02-.2 1.41-.59l7.78-7.78 2.81-2.81c.8-.78.8-2.07 0-2.86zM5.41 20L4 18.59l7.72-7.72 1.47 1.35L5.41 20z\"/>\n",
              "  </svg>\n",
              "      </button>\n",
              "      \n",
              "  <style>\n",
              "    .colab-df-container {\n",
              "      display:flex;\n",
              "      flex-wrap:wrap;\n",
              "      gap: 12px;\n",
              "    }\n",
              "\n",
              "    .colab-df-convert {\n",
              "      background-color: #E8F0FE;\n",
              "      border: none;\n",
              "      border-radius: 50%;\n",
              "      cursor: pointer;\n",
              "      display: none;\n",
              "      fill: #1967D2;\n",
              "      height: 32px;\n",
              "      padding: 0 0 0 0;\n",
              "      width: 32px;\n",
              "    }\n",
              "\n",
              "    .colab-df-convert:hover {\n",
              "      background-color: #E2EBFA;\n",
              "      box-shadow: 0px 1px 2px rgba(60, 64, 67, 0.3), 0px 1px 3px 1px rgba(60, 64, 67, 0.15);\n",
              "      fill: #174EA6;\n",
              "    }\n",
              "\n",
              "    [theme=dark] .colab-df-convert {\n",
              "      background-color: #3B4455;\n",
              "      fill: #D2E3FC;\n",
              "    }\n",
              "\n",
              "    [theme=dark] .colab-df-convert:hover {\n",
              "      background-color: #434B5C;\n",
              "      box-shadow: 0px 1px 3px 1px rgba(0, 0, 0, 0.15);\n",
              "      filter: drop-shadow(0px 1px 2px rgba(0, 0, 0, 0.3));\n",
              "      fill: #FFFFFF;\n",
              "    }\n",
              "  </style>\n",
              "\n",
              "      <script>\n",
              "        const buttonEl =\n",
              "          document.querySelector('#df-b258552d-e22a-40cb-a805-309f8fb28ca6 button.colab-df-convert');\n",
              "        buttonEl.style.display =\n",
              "          google.colab.kernel.accessAllowed ? 'block' : 'none';\n",
              "\n",
              "        async function convertToInteractive(key) {\n",
              "          const element = document.querySelector('#df-b258552d-e22a-40cb-a805-309f8fb28ca6');\n",
              "          const dataTable =\n",
              "            await google.colab.kernel.invokeFunction('convertToInteractive',\n",
              "                                                     [key], {});\n",
              "          if (!dataTable) return;\n",
              "\n",
              "          const docLinkHtml = 'Like what you see? Visit the ' +\n",
              "            '<a target=\"_blank\" href=https://colab.research.google.com/notebooks/data_table.ipynb>data table notebook</a>'\n",
              "            + ' to learn more about interactive tables.';\n",
              "          element.innerHTML = '';\n",
              "          dataTable['output_type'] = 'display_data';\n",
              "          await google.colab.output.renderOutput(dataTable, element);\n",
              "          const docLink = document.createElement('div');\n",
              "          docLink.innerHTML = docLinkHtml;\n",
              "          element.appendChild(docLink);\n",
              "        }\n",
              "      </script>\n",
              "    </div>\n",
              "  </div>\n",
              "  "
            ]
          },
          "metadata": {},
          "execution_count": 82
        }
      ]
    },
    {
      "cell_type": "markdown",
      "source": [
        "**<h1> Preprocessing <h1>**\n",
        "\n",
        "---\n",
        "\n"
      ],
      "metadata": {
        "id": "FQUJxc98KD2Y"
      }
    },
    {
      "cell_type": "code",
      "source": [
        "df['BOROUGH']= df['BOROUGH'].map({1:'Manhattan', 2:'Bronx', 3: 'Brooklyn', 4:'Queens',5:'Staten Island'})\n",
        "df.head()\n",
        "#mengubah isi kolom \"BOROUGH\" dari angka menjadi nama kota "
      ],
      "metadata": {
        "colab": {
          "base_uri": "https://localhost:8080/",
          "height": 629
        },
        "id": "EQtYdhpikV3N",
        "outputId": "5e50915e-9a3d-4ae9-f627-805d9908d761"
      },
      "execution_count": 83,
      "outputs": [
        {
          "output_type": "execute_result",
          "data": {
            "text/plain": [
              "   Unnamed: 0    BOROUGH   NEIGHBORHOOD  \\\n",
              "0           4  Manhattan  ALPHABET CITY   \n",
              "1           5  Manhattan  ALPHABET CITY   \n",
              "2           6  Manhattan  ALPHABET CITY   \n",
              "3           7  Manhattan  ALPHABET CITY   \n",
              "4           8  Manhattan  ALPHABET CITY   \n",
              "\n",
              "                       BUILDING CLASS CATEGORY TAX CLASS AT PRESENT  BLOCK  \\\n",
              "0  07 RENTALS - WALKUP APARTMENTS                                2A    392   \n",
              "1  07 RENTALS - WALKUP APARTMENTS                                 2    399   \n",
              "2  07 RENTALS - WALKUP APARTMENTS                                 2    399   \n",
              "3  07 RENTALS - WALKUP APARTMENTS                                2B    402   \n",
              "4  07 RENTALS - WALKUP APARTMENTS                                2A    404   \n",
              "\n",
              "   LOT EASE-MENT BUILDING CLASS AT PRESENT                 ADDRESS  ...  \\\n",
              "0    6                                  C2            153 AVENUE B  ...   \n",
              "1   26                                  C7   234 EAST 4TH   STREET  ...   \n",
              "2   39                                  C7   197 EAST 3RD   STREET  ...   \n",
              "3   21                                  C4     154 EAST 7TH STREET  ...   \n",
              "4   55                                  C2  301 EAST 10TH   STREET  ...   \n",
              "\n",
              "  RESIDENTIAL UNITS  COMMERCIAL UNITS  TOTAL UNITS  LAND SQUARE FEET  \\\n",
              "0                 5                 0            5              1633   \n",
              "1                28                 3           31              4616   \n",
              "2                16                 1           17              2212   \n",
              "3                10                 0           10              2272   \n",
              "4                 6                 0            6              2369   \n",
              "\n",
              "   GROSS SQUARE FEET YEAR BUILT TAX CLASS AT TIME OF SALE  \\\n",
              "0               6440       1900                         2   \n",
              "1              18690       1900                         2   \n",
              "2               7803       1900                         2   \n",
              "3               6794       1913                         2   \n",
              "4               4615       1900                         2   \n",
              "\n",
              "   BUILDING CLASS AT TIME OF SALE  SALE PRICE            SALE DATE  \n",
              "0                              C2     6625000  2017-07-19 00:00:00  \n",
              "1                              C7         -    2016-12-14 00:00:00  \n",
              "2                              C7         -    2016-12-09 00:00:00  \n",
              "3                              C4     3936272  2016-09-23 00:00:00  \n",
              "4                              C2     8000000  2016-11-17 00:00:00  \n",
              "\n",
              "[5 rows x 22 columns]"
            ],
            "text/html": [
              "\n",
              "  <div id=\"df-0400c187-d803-4aad-a2ca-0af7503fa935\">\n",
              "    <div class=\"colab-df-container\">\n",
              "      <div>\n",
              "<style scoped>\n",
              "    .dataframe tbody tr th:only-of-type {\n",
              "        vertical-align: middle;\n",
              "    }\n",
              "\n",
              "    .dataframe tbody tr th {\n",
              "        vertical-align: top;\n",
              "    }\n",
              "\n",
              "    .dataframe thead th {\n",
              "        text-align: right;\n",
              "    }\n",
              "</style>\n",
              "<table border=\"1\" class=\"dataframe\">\n",
              "  <thead>\n",
              "    <tr style=\"text-align: right;\">\n",
              "      <th></th>\n",
              "      <th>Unnamed: 0</th>\n",
              "      <th>BOROUGH</th>\n",
              "      <th>NEIGHBORHOOD</th>\n",
              "      <th>BUILDING CLASS CATEGORY</th>\n",
              "      <th>TAX CLASS AT PRESENT</th>\n",
              "      <th>BLOCK</th>\n",
              "      <th>LOT</th>\n",
              "      <th>EASE-MENT</th>\n",
              "      <th>BUILDING CLASS AT PRESENT</th>\n",
              "      <th>ADDRESS</th>\n",
              "      <th>...</th>\n",
              "      <th>RESIDENTIAL UNITS</th>\n",
              "      <th>COMMERCIAL UNITS</th>\n",
              "      <th>TOTAL UNITS</th>\n",
              "      <th>LAND SQUARE FEET</th>\n",
              "      <th>GROSS SQUARE FEET</th>\n",
              "      <th>YEAR BUILT</th>\n",
              "      <th>TAX CLASS AT TIME OF SALE</th>\n",
              "      <th>BUILDING CLASS AT TIME OF SALE</th>\n",
              "      <th>SALE PRICE</th>\n",
              "      <th>SALE DATE</th>\n",
              "    </tr>\n",
              "  </thead>\n",
              "  <tbody>\n",
              "    <tr>\n",
              "      <th>0</th>\n",
              "      <td>4</td>\n",
              "      <td>Manhattan</td>\n",
              "      <td>ALPHABET CITY</td>\n",
              "      <td>07 RENTALS - WALKUP APARTMENTS</td>\n",
              "      <td>2A</td>\n",
              "      <td>392</td>\n",
              "      <td>6</td>\n",
              "      <td></td>\n",
              "      <td>C2</td>\n",
              "      <td>153 AVENUE B</td>\n",
              "      <td>...</td>\n",
              "      <td>5</td>\n",
              "      <td>0</td>\n",
              "      <td>5</td>\n",
              "      <td>1633</td>\n",
              "      <td>6440</td>\n",
              "      <td>1900</td>\n",
              "      <td>2</td>\n",
              "      <td>C2</td>\n",
              "      <td>6625000</td>\n",
              "      <td>2017-07-19 00:00:00</td>\n",
              "    </tr>\n",
              "    <tr>\n",
              "      <th>1</th>\n",
              "      <td>5</td>\n",
              "      <td>Manhattan</td>\n",
              "      <td>ALPHABET CITY</td>\n",
              "      <td>07 RENTALS - WALKUP APARTMENTS</td>\n",
              "      <td>2</td>\n",
              "      <td>399</td>\n",
              "      <td>26</td>\n",
              "      <td></td>\n",
              "      <td>C7</td>\n",
              "      <td>234 EAST 4TH   STREET</td>\n",
              "      <td>...</td>\n",
              "      <td>28</td>\n",
              "      <td>3</td>\n",
              "      <td>31</td>\n",
              "      <td>4616</td>\n",
              "      <td>18690</td>\n",
              "      <td>1900</td>\n",
              "      <td>2</td>\n",
              "      <td>C7</td>\n",
              "      <td>-</td>\n",
              "      <td>2016-12-14 00:00:00</td>\n",
              "    </tr>\n",
              "    <tr>\n",
              "      <th>2</th>\n",
              "      <td>6</td>\n",
              "      <td>Manhattan</td>\n",
              "      <td>ALPHABET CITY</td>\n",
              "      <td>07 RENTALS - WALKUP APARTMENTS</td>\n",
              "      <td>2</td>\n",
              "      <td>399</td>\n",
              "      <td>39</td>\n",
              "      <td></td>\n",
              "      <td>C7</td>\n",
              "      <td>197 EAST 3RD   STREET</td>\n",
              "      <td>...</td>\n",
              "      <td>16</td>\n",
              "      <td>1</td>\n",
              "      <td>17</td>\n",
              "      <td>2212</td>\n",
              "      <td>7803</td>\n",
              "      <td>1900</td>\n",
              "      <td>2</td>\n",
              "      <td>C7</td>\n",
              "      <td>-</td>\n",
              "      <td>2016-12-09 00:00:00</td>\n",
              "    </tr>\n",
              "    <tr>\n",
              "      <th>3</th>\n",
              "      <td>7</td>\n",
              "      <td>Manhattan</td>\n",
              "      <td>ALPHABET CITY</td>\n",
              "      <td>07 RENTALS - WALKUP APARTMENTS</td>\n",
              "      <td>2B</td>\n",
              "      <td>402</td>\n",
              "      <td>21</td>\n",
              "      <td></td>\n",
              "      <td>C4</td>\n",
              "      <td>154 EAST 7TH STREET</td>\n",
              "      <td>...</td>\n",
              "      <td>10</td>\n",
              "      <td>0</td>\n",
              "      <td>10</td>\n",
              "      <td>2272</td>\n",
              "      <td>6794</td>\n",
              "      <td>1913</td>\n",
              "      <td>2</td>\n",
              "      <td>C4</td>\n",
              "      <td>3936272</td>\n",
              "      <td>2016-09-23 00:00:00</td>\n",
              "    </tr>\n",
              "    <tr>\n",
              "      <th>4</th>\n",
              "      <td>8</td>\n",
              "      <td>Manhattan</td>\n",
              "      <td>ALPHABET CITY</td>\n",
              "      <td>07 RENTALS - WALKUP APARTMENTS</td>\n",
              "      <td>2A</td>\n",
              "      <td>404</td>\n",
              "      <td>55</td>\n",
              "      <td></td>\n",
              "      <td>C2</td>\n",
              "      <td>301 EAST 10TH   STREET</td>\n",
              "      <td>...</td>\n",
              "      <td>6</td>\n",
              "      <td>0</td>\n",
              "      <td>6</td>\n",
              "      <td>2369</td>\n",
              "      <td>4615</td>\n",
              "      <td>1900</td>\n",
              "      <td>2</td>\n",
              "      <td>C2</td>\n",
              "      <td>8000000</td>\n",
              "      <td>2016-11-17 00:00:00</td>\n",
              "    </tr>\n",
              "  </tbody>\n",
              "</table>\n",
              "<p>5 rows × 22 columns</p>\n",
              "</div>\n",
              "      <button class=\"colab-df-convert\" onclick=\"convertToInteractive('df-0400c187-d803-4aad-a2ca-0af7503fa935')\"\n",
              "              title=\"Convert this dataframe to an interactive table.\"\n",
              "              style=\"display:none;\">\n",
              "        \n",
              "  <svg xmlns=\"http://www.w3.org/2000/svg\" height=\"24px\"viewBox=\"0 0 24 24\"\n",
              "       width=\"24px\">\n",
              "    <path d=\"M0 0h24v24H0V0z\" fill=\"none\"/>\n",
              "    <path d=\"M18.56 5.44l.94 2.06.94-2.06 2.06-.94-2.06-.94-.94-2.06-.94 2.06-2.06.94zm-11 1L8.5 8.5l.94-2.06 2.06-.94-2.06-.94L8.5 2.5l-.94 2.06-2.06.94zm10 10l.94 2.06.94-2.06 2.06-.94-2.06-.94-.94-2.06-.94 2.06-2.06.94z\"/><path d=\"M17.41 7.96l-1.37-1.37c-.4-.4-.92-.59-1.43-.59-.52 0-1.04.2-1.43.59L10.3 9.45l-7.72 7.72c-.78.78-.78 2.05 0 2.83L4 21.41c.39.39.9.59 1.41.59.51 0 1.02-.2 1.41-.59l7.78-7.78 2.81-2.81c.8-.78.8-2.07 0-2.86zM5.41 20L4 18.59l7.72-7.72 1.47 1.35L5.41 20z\"/>\n",
              "  </svg>\n",
              "      </button>\n",
              "      \n",
              "  <style>\n",
              "    .colab-df-container {\n",
              "      display:flex;\n",
              "      flex-wrap:wrap;\n",
              "      gap: 12px;\n",
              "    }\n",
              "\n",
              "    .colab-df-convert {\n",
              "      background-color: #E8F0FE;\n",
              "      border: none;\n",
              "      border-radius: 50%;\n",
              "      cursor: pointer;\n",
              "      display: none;\n",
              "      fill: #1967D2;\n",
              "      height: 32px;\n",
              "      padding: 0 0 0 0;\n",
              "      width: 32px;\n",
              "    }\n",
              "\n",
              "    .colab-df-convert:hover {\n",
              "      background-color: #E2EBFA;\n",
              "      box-shadow: 0px 1px 2px rgba(60, 64, 67, 0.3), 0px 1px 3px 1px rgba(60, 64, 67, 0.15);\n",
              "      fill: #174EA6;\n",
              "    }\n",
              "\n",
              "    [theme=dark] .colab-df-convert {\n",
              "      background-color: #3B4455;\n",
              "      fill: #D2E3FC;\n",
              "    }\n",
              "\n",
              "    [theme=dark] .colab-df-convert:hover {\n",
              "      background-color: #434B5C;\n",
              "      box-shadow: 0px 1px 3px 1px rgba(0, 0, 0, 0.15);\n",
              "      filter: drop-shadow(0px 1px 2px rgba(0, 0, 0, 0.3));\n",
              "      fill: #FFFFFF;\n",
              "    }\n",
              "  </style>\n",
              "\n",
              "      <script>\n",
              "        const buttonEl =\n",
              "          document.querySelector('#df-0400c187-d803-4aad-a2ca-0af7503fa935 button.colab-df-convert');\n",
              "        buttonEl.style.display =\n",
              "          google.colab.kernel.accessAllowed ? 'block' : 'none';\n",
              "\n",
              "        async function convertToInteractive(key) {\n",
              "          const element = document.querySelector('#df-0400c187-d803-4aad-a2ca-0af7503fa935');\n",
              "          const dataTable =\n",
              "            await google.colab.kernel.invokeFunction('convertToInteractive',\n",
              "                                                     [key], {});\n",
              "          if (!dataTable) return;\n",
              "\n",
              "          const docLinkHtml = 'Like what you see? Visit the ' +\n",
              "            '<a target=\"_blank\" href=https://colab.research.google.com/notebooks/data_table.ipynb>data table notebook</a>'\n",
              "            + ' to learn more about interactive tables.';\n",
              "          element.innerHTML = '';\n",
              "          dataTable['output_type'] = 'display_data';\n",
              "          await google.colab.output.renderOutput(dataTable, element);\n",
              "          const docLink = document.createElement('div');\n",
              "          docLink.innerHTML = docLinkHtml;\n",
              "          element.appendChild(docLink);\n",
              "        }\n",
              "      </script>\n",
              "    </div>\n",
              "  </div>\n",
              "  "
            ]
          },
          "metadata": {},
          "execution_count": 83
        }
      ]
    },
    {
      "cell_type": "code",
      "source": [
        "df.shape #melihat shape dari dataset yang digunakan"
      ],
      "metadata": {
        "colab": {
          "base_uri": "https://localhost:8080/"
        },
        "id": "AXHx2XSJVQsQ",
        "outputId": "b9564dfe-11ef-4ba5-eb23-ff91e7facf80"
      },
      "execution_count": 84,
      "outputs": [
        {
          "output_type": "execute_result",
          "data": {
            "text/plain": [
              "(84548, 22)"
            ]
          },
          "metadata": {},
          "execution_count": 84
        }
      ]
    },
    {
      "cell_type": "code",
      "source": [
        "df.info() #melihat info isi dari dataset"
      ],
      "metadata": {
        "colab": {
          "base_uri": "https://localhost:8080/"
        },
        "id": "h8S6qGXTVU86",
        "outputId": "b3dd03e9-a9bb-493b-fa11-59167305a29e"
      },
      "execution_count": 85,
      "outputs": [
        {
          "output_type": "stream",
          "name": "stdout",
          "text": [
            "<class 'pandas.core.frame.DataFrame'>\n",
            "RangeIndex: 84548 entries, 0 to 84547\n",
            "Data columns (total 22 columns):\n",
            " #   Column                          Non-Null Count  Dtype \n",
            "---  ------                          --------------  ----- \n",
            " 0   Unnamed: 0                      84548 non-null  int64 \n",
            " 1   BOROUGH                         84548 non-null  object\n",
            " 2   NEIGHBORHOOD                    84548 non-null  object\n",
            " 3   BUILDING CLASS CATEGORY         84548 non-null  object\n",
            " 4   TAX CLASS AT PRESENT            84548 non-null  object\n",
            " 5   BLOCK                           84548 non-null  int64 \n",
            " 6   LOT                             84548 non-null  int64 \n",
            " 7   EASE-MENT                       84548 non-null  object\n",
            " 8   BUILDING CLASS AT PRESENT       84548 non-null  object\n",
            " 9   ADDRESS                         84548 non-null  object\n",
            " 10  APARTMENT NUMBER                84548 non-null  object\n",
            " 11  ZIP CODE                        84548 non-null  int64 \n",
            " 12  RESIDENTIAL UNITS               84548 non-null  int64 \n",
            " 13  COMMERCIAL UNITS                84548 non-null  int64 \n",
            " 14  TOTAL UNITS                     84548 non-null  int64 \n",
            " 15  LAND SQUARE FEET                84548 non-null  object\n",
            " 16  GROSS SQUARE FEET               84548 non-null  object\n",
            " 17  YEAR BUILT                      84548 non-null  int64 \n",
            " 18  TAX CLASS AT TIME OF SALE       84548 non-null  int64 \n",
            " 19  BUILDING CLASS AT TIME OF SALE  84548 non-null  object\n",
            " 20  SALE PRICE                      84548 non-null  object\n",
            " 21  SALE DATE                       84548 non-null  object\n",
            "dtypes: int64(9), object(13)\n",
            "memory usage: 14.2+ MB\n"
          ]
        }
      ]
    },
    {
      "cell_type": "code",
      "source": [
        "df.columns.values"
      ],
      "metadata": {
        "colab": {
          "base_uri": "https://localhost:8080/"
        },
        "id": "_lwlYefMVWKl",
        "outputId": "3fa63ee0-420a-421f-f64f-d132b5368ec7"
      },
      "execution_count": 86,
      "outputs": [
        {
          "output_type": "execute_result",
          "data": {
            "text/plain": [
              "array(['Unnamed: 0', 'BOROUGH', 'NEIGHBORHOOD', 'BUILDING CLASS CATEGORY',\n",
              "       'TAX CLASS AT PRESENT', 'BLOCK', 'LOT', 'EASE-MENT',\n",
              "       'BUILDING CLASS AT PRESENT', 'ADDRESS', 'APARTMENT NUMBER',\n",
              "       'ZIP CODE', 'RESIDENTIAL UNITS', 'COMMERCIAL UNITS', 'TOTAL UNITS',\n",
              "       'LAND SQUARE FEET', 'GROSS SQUARE FEET', 'YEAR BUILT',\n",
              "       'TAX CLASS AT TIME OF SALE', 'BUILDING CLASS AT TIME OF SALE',\n",
              "       'SALE PRICE', 'SALE DATE'], dtype=object)"
            ]
          },
          "metadata": {},
          "execution_count": 86
        }
      ]
    },
    {
      "cell_type": "code",
      "source": [
        "df.isnull().sum()"
      ],
      "metadata": {
        "colab": {
          "base_uri": "https://localhost:8080/"
        },
        "id": "uUO0QHapV9qx",
        "outputId": "79973656-9600-4bd5-bb48-a5f079cb54da"
      },
      "execution_count": 87,
      "outputs": [
        {
          "output_type": "execute_result",
          "data": {
            "text/plain": [
              "Unnamed: 0                        0\n",
              "BOROUGH                           0\n",
              "NEIGHBORHOOD                      0\n",
              "BUILDING CLASS CATEGORY           0\n",
              "TAX CLASS AT PRESENT              0\n",
              "BLOCK                             0\n",
              "LOT                               0\n",
              "EASE-MENT                         0\n",
              "BUILDING CLASS AT PRESENT         0\n",
              "ADDRESS                           0\n",
              "APARTMENT NUMBER                  0\n",
              "ZIP CODE                          0\n",
              "RESIDENTIAL UNITS                 0\n",
              "COMMERCIAL UNITS                  0\n",
              "TOTAL UNITS                       0\n",
              "LAND SQUARE FEET                  0\n",
              "GROSS SQUARE FEET                 0\n",
              "YEAR BUILT                        0\n",
              "TAX CLASS AT TIME OF SALE         0\n",
              "BUILDING CLASS AT TIME OF SALE    0\n",
              "SALE PRICE                        0\n",
              "SALE DATE                         0\n",
              "dtype: int64"
            ]
          },
          "metadata": {},
          "execution_count": 87
        }
      ]
    },
    {
      "cell_type": "code",
      "source": [
        "df.drop([\"Unnamed: 0\"], axis=1, inplace=True) #drop kolom yang tidak relevan"
      ],
      "metadata": {
        "id": "YYW7MKJZV2Z5"
      },
      "execution_count": 88,
      "outputs": []
    },
    {
      "cell_type": "markdown",
      "source": [
        "Mengubah tipe data yang ada pada dataset"
      ],
      "metadata": {
        "id": "iNaCrGSJIFow"
      }
    },
    {
      "cell_type": "code",
      "source": [
        "categorical = [\"BOROUGH\",\"NEIGHBORHOOD\",'BUILDING CLASS CATEGORY', 'TAX CLASS AT PRESENT', 'BUILDING CLASS AT PRESENT','ZIP CODE', \n",
        "               'YEAR BUILT', 'BUILDING CLASS AT TIME OF SALE', 'TAX CLASS AT TIME OF SALE']\n",
        "\n",
        "for col in categorical: \n",
        "    df[col] = df[col].astype(\"category\")"
      ],
      "metadata": {
        "id": "q9mFOmK5V4lp"
      },
      "execution_count": 89,
      "outputs": []
    },
    {
      "cell_type": "code",
      "source": [
        "numeric = [\"RESIDENTIAL UNITS\",\"COMMERCIAL UNITS\",\"TOTAL UNITS\", \"LAND SQUARE FEET\" , \"GROSS SQUARE FEET\",\"SALE PRICE\" ]\n",
        "\n",
        "for col in numeric: \n",
        "    df[col] = pd.to_numeric(df[col], errors='coerce')"
      ],
      "metadata": {
        "id": "5tWMKl3dWr2a"
      },
      "execution_count": 90,
      "outputs": []
    },
    {
      "cell_type": "code",
      "source": [
        "df['SALE DATE']= pd.to_datetime(df['SALE DATE'], errors='coerce')"
      ],
      "metadata": {
        "id": "ZZY67wgiWudD"
      },
      "execution_count": 91,
      "outputs": []
    },
    {
      "cell_type": "code",
      "source": [
        "df.info()"
      ],
      "metadata": {
        "colab": {
          "base_uri": "https://localhost:8080/"
        },
        "id": "dp1axQz4WwRb",
        "outputId": "50a55fc5-17df-4347-d2a1-59e0462d8b12"
      },
      "execution_count": 92,
      "outputs": [
        {
          "output_type": "stream",
          "name": "stdout",
          "text": [
            "<class 'pandas.core.frame.DataFrame'>\n",
            "RangeIndex: 84548 entries, 0 to 84547\n",
            "Data columns (total 21 columns):\n",
            " #   Column                          Non-Null Count  Dtype         \n",
            "---  ------                          --------------  -----         \n",
            " 0   BOROUGH                         84548 non-null  category      \n",
            " 1   NEIGHBORHOOD                    84548 non-null  category      \n",
            " 2   BUILDING CLASS CATEGORY         84548 non-null  category      \n",
            " 3   TAX CLASS AT PRESENT            84548 non-null  category      \n",
            " 4   BLOCK                           84548 non-null  int64         \n",
            " 5   LOT                             84548 non-null  int64         \n",
            " 6   EASE-MENT                       84548 non-null  object        \n",
            " 7   BUILDING CLASS AT PRESENT       84548 non-null  category      \n",
            " 8   ADDRESS                         84548 non-null  object        \n",
            " 9   APARTMENT NUMBER                84548 non-null  object        \n",
            " 10  ZIP CODE                        84548 non-null  category      \n",
            " 11  RESIDENTIAL UNITS               84548 non-null  int64         \n",
            " 12  COMMERCIAL UNITS                84548 non-null  int64         \n",
            " 13  TOTAL UNITS                     84548 non-null  int64         \n",
            " 14  LAND SQUARE FEET                58296 non-null  float64       \n",
            " 15  GROSS SQUARE FEET               56936 non-null  float64       \n",
            " 16  YEAR BUILT                      84548 non-null  category      \n",
            " 17  TAX CLASS AT TIME OF SALE       84548 non-null  category      \n",
            " 18  BUILDING CLASS AT TIME OF SALE  84548 non-null  category      \n",
            " 19  SALE PRICE                      69987 non-null  float64       \n",
            " 20  SALE DATE                       84548 non-null  datetime64[ns]\n",
            "dtypes: category(9), datetime64[ns](1), float64(3), int64(5), object(3)\n",
            "memory usage: 8.9+ MB\n"
          ]
        }
      ]
    },
    {
      "cell_type": "code",
      "source": [
        "df.isna().sum() #melihat apakah ada missing values didalam dataset"
      ],
      "metadata": {
        "colab": {
          "base_uri": "https://localhost:8080/"
        },
        "id": "IP_hMgoXWya8",
        "outputId": "9ca50d46-90e0-4d57-b195-6601caac63ec"
      },
      "execution_count": 93,
      "outputs": [
        {
          "output_type": "execute_result",
          "data": {
            "text/plain": [
              "BOROUGH                               0\n",
              "NEIGHBORHOOD                          0\n",
              "BUILDING CLASS CATEGORY               0\n",
              "TAX CLASS AT PRESENT                  0\n",
              "BLOCK                                 0\n",
              "LOT                                   0\n",
              "EASE-MENT                             0\n",
              "BUILDING CLASS AT PRESENT             0\n",
              "ADDRESS                               0\n",
              "APARTMENT NUMBER                      0\n",
              "ZIP CODE                              0\n",
              "RESIDENTIAL UNITS                     0\n",
              "COMMERCIAL UNITS                      0\n",
              "TOTAL UNITS                           0\n",
              "LAND SQUARE FEET                  26252\n",
              "GROSS SQUARE FEET                 27612\n",
              "YEAR BUILT                            0\n",
              "TAX CLASS AT TIME OF SALE             0\n",
              "BUILDING CLASS AT TIME OF SALE        0\n",
              "SALE PRICE                        14561\n",
              "SALE DATE                             0\n",
              "dtype: int64"
            ]
          },
          "metadata": {},
          "execution_count": 93
        }
      ]
    },
    {
      "cell_type": "code",
      "source": [
        "df[\"LAND SQUARE FEET\"]=df[\"LAND SQUARE FEET\"].fillna(df[\"LAND SQUARE FEET\"].median())\n",
        "df[\"GROSS SQUARE FEET\"]=df[\"GROSS SQUARE FEET\"].fillna(df[\"GROSS SQUARE FEET\"].median())\n",
        "# Mengisi missing values pada kolom \"LAND SQUARE FEET\" dan \"GROSS SQUARE FEET\" dengan nilai median dari masing-masing kolom"
      ],
      "metadata": {
        "id": "iST9lmStW4_C"
      },
      "execution_count": 94,
      "outputs": []
    },
    {
      "cell_type": "code",
      "source": [
        "df.isna().sum()"
      ],
      "metadata": {
        "colab": {
          "base_uri": "https://localhost:8080/"
        },
        "id": "2xh5eM6cYBR2",
        "outputId": "95da81e8-2014-4018-d97a-041ad3fc18a5"
      },
      "execution_count": 95,
      "outputs": [
        {
          "output_type": "execute_result",
          "data": {
            "text/plain": [
              "BOROUGH                               0\n",
              "NEIGHBORHOOD                          0\n",
              "BUILDING CLASS CATEGORY               0\n",
              "TAX CLASS AT PRESENT                  0\n",
              "BLOCK                                 0\n",
              "LOT                                   0\n",
              "EASE-MENT                             0\n",
              "BUILDING CLASS AT PRESENT             0\n",
              "ADDRESS                               0\n",
              "APARTMENT NUMBER                      0\n",
              "ZIP CODE                              0\n",
              "RESIDENTIAL UNITS                     0\n",
              "COMMERCIAL UNITS                      0\n",
              "TOTAL UNITS                           0\n",
              "LAND SQUARE FEET                      0\n",
              "GROSS SQUARE FEET                     0\n",
              "YEAR BUILT                            0\n",
              "TAX CLASS AT TIME OF SALE             0\n",
              "BUILDING CLASS AT TIME OF SALE        0\n",
              "SALE PRICE                        14561\n",
              "SALE DATE                             0\n",
              "dtype: int64"
            ]
          },
          "metadata": {},
          "execution_count": 95
        }
      ]
    },
    {
      "cell_type": "code",
      "source": [
        "df.dropna(inplace=True) #menghapus baris yang memiliki missing values didalamnya"
      ],
      "metadata": {
        "id": "QWvnqdprZSaB"
      },
      "execution_count": 96,
      "outputs": []
    },
    {
      "cell_type": "code",
      "source": [
        "df.isna().sum()"
      ],
      "metadata": {
        "colab": {
          "base_uri": "https://localhost:8080/"
        },
        "id": "UMw5PNHFdhLf",
        "outputId": "6f704ede-1f7d-4fb7-cf1b-e24fbd20cb48"
      },
      "execution_count": 97,
      "outputs": [
        {
          "output_type": "execute_result",
          "data": {
            "text/plain": [
              "BOROUGH                           0\n",
              "NEIGHBORHOOD                      0\n",
              "BUILDING CLASS CATEGORY           0\n",
              "TAX CLASS AT PRESENT              0\n",
              "BLOCK                             0\n",
              "LOT                               0\n",
              "EASE-MENT                         0\n",
              "BUILDING CLASS AT PRESENT         0\n",
              "ADDRESS                           0\n",
              "APARTMENT NUMBER                  0\n",
              "ZIP CODE                          0\n",
              "RESIDENTIAL UNITS                 0\n",
              "COMMERCIAL UNITS                  0\n",
              "TOTAL UNITS                       0\n",
              "LAND SQUARE FEET                  0\n",
              "GROSS SQUARE FEET                 0\n",
              "YEAR BUILT                        0\n",
              "TAX CLASS AT TIME OF SALE         0\n",
              "BUILDING CLASS AT TIME OF SALE    0\n",
              "SALE PRICE                        0\n",
              "SALE DATE                         0\n",
              "dtype: int64"
            ]
          },
          "metadata": {},
          "execution_count": 97
        }
      ]
    },
    {
      "cell_type": "code",
      "source": [
        "df.shape"
      ],
      "metadata": {
        "colab": {
          "base_uri": "https://localhost:8080/"
        },
        "id": "65zp6-HHdjEN",
        "outputId": "9dda89ba-c42e-4229-f6e8-f3ad92406ca1"
      },
      "execution_count": 98,
      "outputs": [
        {
          "output_type": "execute_result",
          "data": {
            "text/plain": [
              "(69987, 21)"
            ]
          },
          "metadata": {},
          "execution_count": 98
        }
      ]
    },
    {
      "cell_type": "code",
      "source": [
        "sum(df.duplicated())"
      ],
      "metadata": {
        "colab": {
          "base_uri": "https://localhost:8080/"
        },
        "id": "ACHBzkVYdqmI",
        "outputId": "8ba26982-0276-4d21-ba2f-d9abe9272393"
      },
      "execution_count": 99,
      "outputs": [
        {
          "output_type": "execute_result",
          "data": {
            "text/plain": [
              "380"
            ]
          },
          "metadata": {},
          "execution_count": 99
        }
      ]
    },
    {
      "cell_type": "code",
      "source": [
        "df.drop_duplicates(inplace=True)\n",
        "df.shape"
      ],
      "metadata": {
        "colab": {
          "base_uri": "https://localhost:8080/"
        },
        "id": "AMuQk7rSd27i",
        "outputId": "ed724324-3584-4101-856d-dfa70f741a11"
      },
      "execution_count": 100,
      "outputs": [
        {
          "output_type": "execute_result",
          "data": {
            "text/plain": [
              "(69607, 21)"
            ]
          },
          "metadata": {},
          "execution_count": 100
        }
      ]
    },
    {
      "cell_type": "code",
      "source": [
        "plt.figure(figsize=(10,5))\n",
        "sns.boxplot(x='SALE PRICE', data=df)\n",
        "plt.ticklabel_format(style='plain', axis='x')\n",
        "plt.show()"
      ],
      "metadata": {
        "colab": {
          "base_uri": "https://localhost:8080/",
          "height": 465
        },
        "id": "-vtBTdOReJ3T",
        "outputId": "8f58450f-cc1e-4439-8198-28f2a7cc278e"
      },
      "execution_count": 101,
      "outputs": [
        {
          "output_type": "display_data",
          "data": {
            "text/plain": [
              "<Figure size 1000x500 with 1 Axes>"
            ],
            "image/png": "[encoded data removed]"
          },
          "metadata": {}
        }
      ]
    },
    {
      "cell_type": "code",
      "source": [
        "df= df[(df['SALE PRICE'] > 100000) & (df['SALE PRICE'] < 5000000)]"
      ],
      "metadata": {
        "id": "Nxhl572EgPQ_"
      },
      "execution_count": 102,
      "outputs": []
    },
    {
      "cell_type": "code",
      "source": [
        "plt.figure(figsize=(10,6))\n",
        "sns.boxplot(x='SALE PRICE', data=df)\n",
        "plt.ticklabel_format(style='plain', axis='x')\n",
        "plt.show()"
      ],
      "metadata": {
        "colab": {
          "base_uri": "https://localhost:8080/",
          "height": 542
        },
        "id": "VztIaGXIhYd8",
        "outputId": "a70f2f4a-964b-4385-967a-b8e0e79af4ab"
      },
      "execution_count": 103,
      "outputs": [
        {
          "output_type": "display_data",
          "data": {
            "text/plain": [
              "<Figure size 1000x600 with 1 Axes>"
            ],
            "image/png": "[encoded data removed]"
          },
          "metadata": {}
        }
      ]
    },
    {
      "cell_type": "markdown",
      "source": [
        "**<h1> Measure of Central Tendency <h1>**\n",
        "\n",
        "---\n",
        "\n",
        "\n"
      ],
      "metadata": {
        "id": "rC8YieqrcuKP"
      }
    },
    {
      "cell_type": "markdown",
      "source": [
        "<h1> Mean <h1>"
      ],
      "metadata": {
        "id": "lG7thMTYc3Ra"
      }
    },
    {
      "cell_type": "code",
      "source": [
        "print(\"Mean dari kolom 'SALE PRICE' = \", df['SALE PRICE'].mean())\n"
      ],
      "metadata": {
        "colab": {
          "base_uri": "https://localhost:8080/"
        },
        "id": "GSH86YbMdEvC",
        "outputId": "aec9a542-f96a-406b-90e3-9521ecca18f4"
      },
      "execution_count": 104,
      "outputs": [
        {
          "output_type": "stream",
          "name": "stdout",
          "text": [
            "Mean dari kolom 'SALE PRICE' =  867277.7485113322\n"
          ]
        }
      ]
    },
    {
      "cell_type": "code",
      "source": [
        "#mean_sp = df[['BOROUGH','SALE PRICE']].groupby('BOROUGH').mean().sort_values(by='SALE PRICE', ascending=True)\n",
        "#mean_sp"
      ],
      "metadata": {
        "id": "lrIQP2gDdXgG"
      },
      "execution_count": 105,
      "outputs": []
    },
    {
      "cell_type": "markdown",
      "source": [
        "<h1> Median <h1>"
      ],
      "metadata": {
        "id": "7YRXqprKc8t8"
      }
    },
    {
      "cell_type": "code",
      "source": [
        "print(\"Median for the SALE PRICE = \",df['SALE PRICE'].median())\n",
        "print(\"Median for the GROSS SQUARE FEET = \", df['GROSS SQUARE FEET'].median())\n",
        "print(\"Median for the LAND SQUARE FEET = \", df['LAND SQUARE FEET'].median())"
      ],
      "metadata": {
        "colab": {
          "base_uri": "https://localhost:8080/"
        },
        "id": "pq2R54FBf-CX",
        "outputId": "9f4bc48f-2d64-4a25-9435-94ea921ee45d"
      },
      "execution_count": 106,
      "outputs": [
        {
          "output_type": "stream",
          "name": "stdout",
          "text": [
            "Median for the SALE PRICE =  630000.0\n",
            "Median for the GROSS SQUARE FEET =  1680.0\n",
            "Median for the LAND SQUARE FEET =  2325.0\n"
          ]
        }
      ]
    },
    {
      "cell_type": "code",
      "source": [
        "median = df[['BOROUGH','SALE PRICE']].groupby('BOROUGH').median().sort_values(by='SALE PRICE', ascending=True)\n",
        "median"
      ],
      "metadata": {
        "colab": {
          "base_uri": "https://localhost:8080/",
          "height": 238
        },
        "id": "PvwjTt5ixARk",
        "outputId": "a43655d2-fb6e-461c-87d2-fa087eb2c338"
      },
      "execution_count": 107,
      "outputs": [
        {
          "output_type": "execute_result",
          "data": {
            "text/plain": [
              "               SALE PRICE\n",
              "BOROUGH                  \n",
              "Bronx            420000.0\n",
              "Staten Island    474000.0\n",
              "Queens           509000.0\n",
              "Brooklyn         778105.5\n",
              "Manhattan        999000.0"
            ],
            "text/html": [
              "\n",
              "  <div id=\"df-86dff739-8d69-4d0b-be6b-7c8018724e2e\">\n",
              "    <div class=\"colab-df-container\">\n",
              "      <div>\n",
              "<style scoped>\n",
              "    .dataframe tbody tr th:only-of-type {\n",
              "        vertical-align: middle;\n",
              "    }\n",
              "\n",
              "    .dataframe tbody tr th {\n",
              "        vertical-align: top;\n",
              "    }\n",
              "\n",
              "    .dataframe thead th {\n",
              "        text-align: right;\n",
              "    }\n",
              "</style>\n",
              "<table border=\"1\" class=\"dataframe\">\n",
              "  <thead>\n",
              "    <tr style=\"text-align: right;\">\n",
              "      <th></th>\n",
              "      <th>SALE PRICE</th>\n",
              "    </tr>\n",
              "    <tr>\n",
              "      <th>BOROUGH</th>\n",
              "      <th></th>\n",
              "    </tr>\n",
              "  </thead>\n",
              "  <tbody>\n",
              "    <tr>\n",
              "      <th>Bronx</th>\n",
              "      <td>420000.0</td>\n",
              "    </tr>\n",
              "    <tr>\n",
              "      <th>Staten Island</th>\n",
              "      <td>474000.0</td>\n",
              "    </tr>\n",
              "    <tr>\n",
              "      <th>Queens</th>\n",
              "      <td>509000.0</td>\n",
              "    </tr>\n",
              "    <tr>\n",
              "      <th>Brooklyn</th>\n",
              "      <td>778105.5</td>\n",
              "    </tr>\n",
              "    <tr>\n",
              "      <th>Manhattan</th>\n",
              "      <td>999000.0</td>\n",
              "    </tr>\n",
              "  </tbody>\n",
              "</table>\n",
              "</div>\n",
              "      <button class=\"colab-df-convert\" onclick=\"convertToInteractive('df-86dff739-8d69-4d0b-be6b-7c8018724e2e')\"\n",
              "              title=\"Convert this dataframe to an interactive table.\"\n",
              "              style=\"display:none;\">\n",
              "        \n",
              "  <svg xmlns=\"http://www.w3.org/2000/svg\" height=\"24px\"viewBox=\"0 0 24 24\"\n",
              "       width=\"24px\">\n",
              "    <path d=\"M0 0h24v24H0V0z\" fill=\"none\"/>\n",
              "    <path d=\"M18.56 5.44l.94 2.06.94-2.06 2.06-.94-2.06-.94-.94-2.06-.94 2.06-2.06.94zm-11 1L8.5 8.5l.94-2.06 2.06-.94-2.06-.94L8.5 2.5l-.94 2.06-2.06.94zm10 10l.94 2.06.94-2.06 2.06-.94-2.06-.94-.94-2.06-.94 2.06-2.06.94z\"/><path d=\"M17.41 7.96l-1.37-1.37c-.4-.4-.92-.59-1.43-.59-.52 0-1.04.2-1.43.59L10.3 9.45l-7.72 7.72c-.78.78-.78 2.05 0 2.83L4 21.41c.39.39.9.59 1.41.59.51 0 1.02-.2 1.41-.59l7.78-7.78 2.81-2.81c.8-.78.8-2.07 0-2.86zM5.41 20L4 18.59l7.72-7.72 1.47 1.35L5.41 20z\"/>\n",
              "  </svg>\n",
              "      </button>\n",
              "      \n",
              "  <style>\n",
              "    .colab-df-container {\n",
              "      display:flex;\n",
              "      flex-wrap:wrap;\n",
              "      gap: 12px;\n",
              "    }\n",
              "\n",
              "    .colab-df-convert {\n",
              "      background-color: #E8F0FE;\n",
              "      border: none;\n",
              "      border-radius: 50%;\n",
              "      cursor: pointer;\n",
              "      display: none;\n",
              "      fill: #1967D2;\n",
              "      height: 32px;\n",
              "      padding: 0 0 0 0;\n",
              "      width: 32px;\n",
              "    }\n",
              "\n",
              "    .colab-df-convert:hover {\n",
              "      background-color: #E2EBFA;\n",
              "      box-shadow: 0px 1px 2px rgba(60, 64, 67, 0.3), 0px 1px 3px 1px rgba(60, 64, 67, 0.15);\n",
              "      fill: #174EA6;\n",
              "    }\n",
              "\n",
              "    [theme=dark] .colab-df-convert {\n",
              "      background-color: #3B4455;\n",
              "      fill: #D2E3FC;\n",
              "    }\n",
              "\n",
              "    [theme=dark] .colab-df-convert:hover {\n",
              "      background-color: #434B5C;\n",
              "      box-shadow: 0px 1px 3px 1px rgba(0, 0, 0, 0.15);\n",
              "      filter: drop-shadow(0px 1px 2px rgba(0, 0, 0, 0.3));\n",
              "      fill: #FFFFFF;\n",
              "    }\n",
              "  </style>\n",
              "\n",
              "      <script>\n",
              "        const buttonEl =\n",
              "          document.querySelector('#df-86dff739-8d69-4d0b-be6b-7c8018724e2e button.colab-df-convert');\n",
              "        buttonEl.style.display =\n",
              "          google.colab.kernel.accessAllowed ? 'block' : 'none';\n",
              "\n",
              "        async function convertToInteractive(key) {\n",
              "          const element = document.querySelector('#df-86dff739-8d69-4d0b-be6b-7c8018724e2e');\n",
              "          const dataTable =\n",
              "            await google.colab.kernel.invokeFunction('convertToInteractive',\n",
              "                                                     [key], {});\n",
              "          if (!dataTable) return;\n",
              "\n",
              "          const docLinkHtml = 'Like what you see? Visit the ' +\n",
              "            '<a target=\"_blank\" href=https://colab.research.google.com/notebooks/data_table.ipynb>data table notebook</a>'\n",
              "            + ' to learn more about interactive tables.';\n",
              "          element.innerHTML = '';\n",
              "          dataTable['output_type'] = 'display_data';\n",
              "          await google.colab.output.renderOutput(dataTable, element);\n",
              "          const docLink = document.createElement('div');\n",
              "          docLink.innerHTML = docLinkHtml;\n",
              "          element.appendChild(docLink);\n",
              "        }\n",
              "      </script>\n",
              "    </div>\n",
              "  </div>\n",
              "  "
            ]
          },
          "metadata": {},
          "execution_count": 107
        }
      ]
    },
    {
      "cell_type": "markdown",
      "source": [
        "<h1> Modus <h1>"
      ],
      "metadata": {
        "id": "byc-awAidCd2"
      }
    },
    {
      "cell_type": "code",
      "source": [
        "modus = df[['BOROUGH','TOTAL UNITS']].groupby(['BOROUGH']).apply(pd.DataFrame.mode).reset_index(drop=True)\n",
        "modus"
      ],
      "metadata": {
        "id": "LEe7VwzQc_q0",
        "colab": {
          "base_uri": "https://localhost:8080/",
          "height": 206
        },
        "outputId": "dd5c4de3-eb99-49e0-951f-5c977bd66def"
      },
      "execution_count": 108,
      "outputs": [
        {
          "output_type": "execute_result",
          "data": {
            "text/plain": [
              "         BOROUGH  TOTAL UNITS\n",
              "0          Bronx            1\n",
              "1       Brooklyn            1\n",
              "2      Manhattan            0\n",
              "3         Queens            1\n",
              "4  Staten Island            1"
            ],
            "text/html": [
              "\n",
              "  <div id=\"df-25e45eb8-ecaf-4556-8784-a736988fe8aa\">\n",
              "    <div class=\"colab-df-container\">\n",
              "      <div>\n",
              "<style scoped>\n",
              "    .dataframe tbody tr th:only-of-type {\n",
              "        vertical-align: middle;\n",
              "    }\n",
              "\n",
              "    .dataframe tbody tr th {\n",
              "        vertical-align: top;\n",
              "    }\n",
              "\n",
              "    .dataframe thead th {\n",
              "        text-align: right;\n",
              "    }\n",
              "</style>\n",
              "<table border=\"1\" class=\"dataframe\">\n",
              "  <thead>\n",
              "    <tr style=\"text-align: right;\">\n",
              "      <th></th>\n",
              "      <th>BOROUGH</th>\n",
              "      <th>TOTAL UNITS</th>\n",
              "    </tr>\n",
              "  </thead>\n",
              "  <tbody>\n",
              "    <tr>\n",
              "      <th>0</th>\n",
              "      <td>Bronx</td>\n",
              "      <td>1</td>\n",
              "    </tr>\n",
              "    <tr>\n",
              "      <th>1</th>\n",
              "      <td>Brooklyn</td>\n",
              "      <td>1</td>\n",
              "    </tr>\n",
              "    <tr>\n",
              "      <th>2</th>\n",
              "      <td>Manhattan</td>\n",
              "      <td>0</td>\n",
              "    </tr>\n",
              "    <tr>\n",
              "      <th>3</th>\n",
              "      <td>Queens</td>\n",
              "      <td>1</td>\n",
              "    </tr>\n",
              "    <tr>\n",
              "      <th>4</th>\n",
              "      <td>Staten Island</td>\n",
              "      <td>1</td>\n",
              "    </tr>\n",
              "  </tbody>\n",
              "</table>\n",
              "</div>\n",
              "      <button class=\"colab-df-convert\" onclick=\"convertToInteractive('df-25e45eb8-ecaf-4556-8784-a736988fe8aa')\"\n",
              "              title=\"Convert this dataframe to an interactive table.\"\n",
              "              style=\"display:none;\">\n",
              "        \n",
              "  <svg xmlns=\"http://www.w3.org/2000/svg\" height=\"24px\"viewBox=\"0 0 24 24\"\n",
              "       width=\"24px\">\n",
              "    <path d=\"M0 0h24v24H0V0z\" fill=\"none\"/>\n",
              "    <path d=\"M18.56 5.44l.94 2.06.94-2.06 2.06-.94-2.06-.94-.94-2.06-.94 2.06-2.06.94zm-11 1L8.5 8.5l.94-2.06 2.06-.94-2.06-.94L8.5 2.5l-.94 2.06-2.06.94zm10 10l.94 2.06.94-2.06 2.06-.94-2.06-.94-.94-2.06-.94 2.06-2.06.94z\"/><path d=\"M17.41 7.96l-1.37-1.37c-.4-.4-.92-.59-1.43-.59-.52 0-1.04.2-1.43.59L10.3 9.45l-7.72 7.72c-.78.78-.78 2.05 0 2.83L4 21.41c.39.39.9.59 1.41.59.51 0 1.02-.2 1.41-.59l7.78-7.78 2.81-2.81c.8-.78.8-2.07 0-2.86zM5.41 20L4 18.59l7.72-7.72 1.47 1.35L5.41 20z\"/>\n",
              "  </svg>\n",
              "      </button>\n",
              "      \n",
              "  <style>\n",
              "    .colab-df-container {\n",
              "      display:flex;\n",
              "      flex-wrap:wrap;\n",
              "      gap: 12px;\n",
              "    }\n",
              "\n",
              "    .colab-df-convert {\n",
              "      background-color: #E8F0FE;\n",
              "      border: none;\n",
              "      border-radius: 50%;\n",
              "      cursor: pointer;\n",
              "      display: none;\n",
              "      fill: #1967D2;\n",
              "      height: 32px;\n",
              "      padding: 0 0 0 0;\n",
              "      width: 32px;\n",
              "    }\n",
              "\n",
              "    .colab-df-convert:hover {\n",
              "      background-color: #E2EBFA;\n",
              "      box-shadow: 0px 1px 2px rgba(60, 64, 67, 0.3), 0px 1px 3px 1px rgba(60, 64, 67, 0.15);\n",
              "      fill: #174EA6;\n",
              "    }\n",
              "\n",
              "    [theme=dark] .colab-df-convert {\n",
              "      background-color: #3B4455;\n",
              "      fill: #D2E3FC;\n",
              "    }\n",
              "\n",
              "    [theme=dark] .colab-df-convert:hover {\n",
              "      background-color: #434B5C;\n",
              "      box-shadow: 0px 1px 3px 1px rgba(0, 0, 0, 0.15);\n",
              "      filter: drop-shadow(0px 1px 2px rgba(0, 0, 0, 0.3));\n",
              "      fill: #FFFFFF;\n",
              "    }\n",
              "  </style>\n",
              "\n",
              "      <script>\n",
              "        const buttonEl =\n",
              "          document.querySelector('#df-25e45eb8-ecaf-4556-8784-a736988fe8aa button.colab-df-convert');\n",
              "        buttonEl.style.display =\n",
              "          google.colab.kernel.accessAllowed ? 'block' : 'none';\n",
              "\n",
              "        async function convertToInteractive(key) {\n",
              "          const element = document.querySelector('#df-25e45eb8-ecaf-4556-8784-a736988fe8aa');\n",
              "          const dataTable =\n",
              "            await google.colab.kernel.invokeFunction('convertToInteractive',\n",
              "                                                     [key], {});\n",
              "          if (!dataTable) return;\n",
              "\n",
              "          const docLinkHtml = 'Like what you see? Visit the ' +\n",
              "            '<a target=\"_blank\" href=https://colab.research.google.com/notebooks/data_table.ipynb>data table notebook</a>'\n",
              "            + ' to learn more about interactive tables.';\n",
              "          element.innerHTML = '';\n",
              "          dataTable['output_type'] = 'display_data';\n",
              "          await google.colab.output.renderOutput(dataTable, element);\n",
              "          const docLink = document.createElement('div');\n",
              "          docLink.innerHTML = docLinkHtml;\n",
              "          element.appendChild(docLink);\n",
              "        }\n",
              "      </script>\n",
              "    </div>\n",
              "  </div>\n",
              "  "
            ]
          },
          "metadata": {},
          "execution_count": 108
        }
      ]
    },
    {
      "cell_type": "markdown",
      "source": [
        "**<h1> Maesure of Spread <h1>**\n",
        "\n",
        "---\n",
        "\n"
      ],
      "metadata": {
        "id": "81oiZMUcjtLj"
      }
    },
    {
      "cell_type": "markdown",
      "source": [
        "<h1> Range <h1>"
      ],
      "metadata": {
        "id": "bOlQQ11BjzQa"
      }
    },
    {
      "cell_type": "code",
      "source": [
        "print('Range SALE PRICE = ', (df['SALE PRICE'].max() - df['SALE PRICE'].min()))"
      ],
      "metadata": {
        "id": "vXw7yGWzkSd2",
        "colab": {
          "base_uri": "https://localhost:8080/"
        },
        "outputId": "1a8f807d-9c24-4247-8653-67227a83cd49"
      },
      "execution_count": 109,
      "outputs": [
        {
          "output_type": "stream",
          "name": "stdout",
          "text": [
            "Range SALE PRICE =  4896506.0\n"
          ]
        }
      ]
    },
    {
      "cell_type": "markdown",
      "source": [
        "<h1> Variance <h1>"
      ],
      "metadata": {
        "id": "h2gtOjrEkJ5N"
      }
    },
    {
      "cell_type": "code",
      "source": [
        "print('Sampel Variance dari SALE PRICE = ', df['SALE PRICE'].var(ddof=1))"
      ],
      "metadata": {
        "colab": {
          "base_uri": "https://localhost:8080/"
        },
        "id": "MR3UP3Opx_-l",
        "outputId": "d1ebf12a-56c9-47b7-c3cc-00333b3035b5"
      },
      "execution_count": 110,
      "outputs": [
        {
          "output_type": "stream",
          "name": "stdout",
          "text": [
            "Sampel Variance dari SALE PRICE =  601702283290.1301\n"
          ]
        }
      ]
    },
    {
      "cell_type": "markdown",
      "source": [
        "<h1> Standard Deviation <h1>"
      ],
      "metadata": {
        "id": "B-9oyjOkkOmH"
      }
    },
    {
      "cell_type": "code",
      "source": [
        "print('Sampel Standard Deviation dari SALE PRICE = ', df['SALE PRICE'].var(ddof=1)**0.5)"
      ],
      "metadata": {
        "id": "JI-dC4P3haVu",
        "colab": {
          "base_uri": "https://localhost:8080/"
        },
        "outputId": "c5b5783b-6479-47bf-f92c-02837ff3afcb"
      },
      "execution_count": 111,
      "outputs": [
        {
          "output_type": "stream",
          "name": "stdout",
          "text": [
            "Sampel Standard Deviation dari SALE PRICE =  775694.7101083841\n"
          ]
        }
      ]
    },
    {
      "cell_type": "markdown",
      "source": [
        "**<h1> Probability Distribution <h1>**"
      ],
      "metadata": {
        "id": "CXX_rVK9y_KS"
      }
    },
    {
      "cell_type": "code",
      "source": [
        "df1 = df.groupby(\"BOROUGH\")\n",
        "br = df1.get_group('Manhattan')\n",
        "\n",
        "ax = sns.distplot(br['SALE PRICE'],\n",
        "                  kde=True,\n",
        "                  bins=100,\n",
        "                  color='skyblue',\n",
        "                  hist_kws={\"linewidth\": 15,'alpha':1})\n",
        "ax.set(title='Distribution of Sale Price in Manhattan')"
      ],
      "metadata": {
        "colab": {
          "base_uri": "https://localhost:8080/",
          "height": 680
        },
        "id": "TPfroSlUyJa2",
        "outputId": "4ce467a1-99ef-4170-aa80-20d5222e02d6"
      },
      "execution_count": 112,
      "outputs": [
        {
          "output_type": "stream",
          "name": "stderr",
          "text": [
            "<ipython-input-112-8a36a2252809>:4: UserWarning: \n",
            "\n",
            "`distplot` is a deprecated function and will be removed in seaborn v0.14.0.\n",
            "\n",
            "Please adapt your code to use either `displot` (a figure-level function with\n",
            "similar flexibility) or `histplot` (an axes-level function for histograms).\n",
            "\n",
            "For a guide to updating your code to use the new functions, please see\n",
            "https://gist.github.com/mwaskom/de44147ed2974457ad6372750bbe5751\n",
            "\n",
            "  ax = sns.distplot(br['SALE PRICE'],\n"
          ]
        },
        {
          "output_type": "execute_result",
          "data": {
            "text/plain": [
              "[Text(0.5, 1.0, 'Distribution of Sale Price in Manhattan')]"
            ]
          },
          "metadata": {},
          "execution_count": 112
        },
        {
          "output_type": "display_data",
          "data": {
            "text/plain": [
              "<Figure size 640x480 with 1 Axes>"
            ],
            "image/png": "[encoded data removed]"
          },
          "metadata": {}
        }
      ]
    },
    {
      "cell_type": "markdown",
      "source": [
        "**<h1> Confidence Interval <h1>**"
      ],
      "metadata": {
        "id": "qoOPZ3oD1qfx"
      }
    },
    {
      "cell_type": "code",
      "source": [
        "CI = df.groupby(\"BOROUGH\").agg({\"SALE PRICE\": [np.mean, np.std, np.size]})\n",
        "CI"
      ],
      "metadata": {
        "colab": {
          "base_uri": "https://localhost:8080/",
          "height": 269
        },
        "id": "1aLhAHb1zPNY",
        "outputId": "1887f38c-baa4-4bc4-b6f5-8fac12e7073c"
      },
      "execution_count": 113,
      "outputs": [
        {
          "output_type": "execute_result",
          "data": {
            "text/plain": [
              "                 SALE PRICE                     \n",
              "                       mean           std   size\n",
              "BOROUGH                                         \n",
              "Bronx          5.187303e+05  5.407409e+05   4562\n",
              "Brooklyn       9.871040e+05  7.626947e+05  14518\n",
              "Manhattan      1.383586e+06  1.031548e+06  12304\n",
              "Queens         6.120277e+05  4.525458e+05  17503\n",
              "Staten Island  5.098329e+05  2.890216e+05   5692"
            ],
            "text/html": [
              "\n",
              "  <div id=\"df-e5bbe1f0-5ce0-4948-92d4-938718564e30\">\n",
              "    <div class=\"colab-df-container\">\n",
              "      <div>\n",
              "<style scoped>\n",
              "    .dataframe tbody tr th:only-of-type {\n",
              "        vertical-align: middle;\n",
              "    }\n",
              "\n",
              "    .dataframe tbody tr th {\n",
              "        vertical-align: top;\n",
              "    }\n",
              "\n",
              "    .dataframe thead tr th {\n",
              "        text-align: left;\n",
              "    }\n",
              "\n",
              "    .dataframe thead tr:last-of-type th {\n",
              "        text-align: right;\n",
              "    }\n",
              "</style>\n",
              "<table border=\"1\" class=\"dataframe\">\n",
              "  <thead>\n",
              "    <tr>\n",
              "      <th></th>\n",
              "      <th colspan=\"3\" halign=\"left\">SALE PRICE</th>\n",
              "    </tr>\n",
              "    <tr>\n",
              "      <th></th>\n",
              "      <th>mean</th>\n",
              "      <th>std</th>\n",
              "      <th>size</th>\n",
              "    </tr>\n",
              "    <tr>\n",
              "      <th>BOROUGH</th>\n",
              "      <th></th>\n",
              "      <th></th>\n",
              "      <th></th>\n",
              "    </tr>\n",
              "  </thead>\n",
              "  <tbody>\n",
              "    <tr>\n",
              "      <th>Bronx</th>\n",
              "      <td>5.187303e+05</td>\n",
              "      <td>5.407409e+05</td>\n",
              "      <td>4562</td>\n",
              "    </tr>\n",
              "    <tr>\n",
              "      <th>Brooklyn</th>\n",
              "      <td>9.871040e+05</td>\n",
              "      <td>7.626947e+05</td>\n",
              "      <td>14518</td>\n",
              "    </tr>\n",
              "    <tr>\n",
              "      <th>Manhattan</th>\n",
              "      <td>1.383586e+06</td>\n",
              "      <td>1.031548e+06</td>\n",
              "      <td>12304</td>\n",
              "    </tr>\n",
              "    <tr>\n",
              "      <th>Queens</th>\n",
              "      <td>6.120277e+05</td>\n",
              "      <td>4.525458e+05</td>\n",
              "      <td>17503</td>\n",
              "    </tr>\n",
              "    <tr>\n",
              "      <th>Staten Island</th>\n",
              "      <td>5.098329e+05</td>\n",
              "      <td>2.890216e+05</td>\n",
              "      <td>5692</td>\n",
              "    </tr>\n",
              "  </tbody>\n",
              "</table>\n",
              "</div>\n",
              "      <button class=\"colab-df-convert\" onclick=\"convertToInteractive('df-e5bbe1f0-5ce0-4948-92d4-938718564e30')\"\n",
              "              title=\"Convert this dataframe to an interactive table.\"\n",
              "              style=\"display:none;\">\n",
              "        \n",
              "  <svg xmlns=\"http://www.w3.org/2000/svg\" height=\"24px\"viewBox=\"0 0 24 24\"\n",
              "       width=\"24px\">\n",
              "    <path d=\"M0 0h24v24H0V0z\" fill=\"none\"/>\n",
              "    <path d=\"M18.56 5.44l.94 2.06.94-2.06 2.06-.94-2.06-.94-.94-2.06-.94 2.06-2.06.94zm-11 1L8.5 8.5l.94-2.06 2.06-.94-2.06-.94L8.5 2.5l-.94 2.06-2.06.94zm10 10l.94 2.06.94-2.06 2.06-.94-2.06-.94-.94-2.06-.94 2.06-2.06.94z\"/><path d=\"M17.41 7.96l-1.37-1.37c-.4-.4-.92-.59-1.43-.59-.52 0-1.04.2-1.43.59L10.3 9.45l-7.72 7.72c-.78.78-.78 2.05 0 2.83L4 21.41c.39.39.9.59 1.41.59.51 0 1.02-.2 1.41-.59l7.78-7.78 2.81-2.81c.8-.78.8-2.07 0-2.86zM5.41 20L4 18.59l7.72-7.72 1.47 1.35L5.41 20z\"/>\n",
              "  </svg>\n",
              "      </button>\n",
              "      \n",
              "  <style>\n",
              "    .colab-df-container {\n",
              "      display:flex;\n",
              "      flex-wrap:wrap;\n",
              "      gap: 12px;\n",
              "    }\n",
              "\n",
              "    .colab-df-convert {\n",
              "      background-color: #E8F0FE;\n",
              "      border: none;\n",
              "      border-radius: 50%;\n",
              "      cursor: pointer;\n",
              "      display: none;\n",
              "      fill: #1967D2;\n",
              "      height: 32px;\n",
              "      padding: 0 0 0 0;\n",
              "      width: 32px;\n",
              "    }\n",
              "\n",
              "    .colab-df-convert:hover {\n",
              "      background-color: #E2EBFA;\n",
              "      box-shadow: 0px 1px 2px rgba(60, 64, 67, 0.3), 0px 1px 3px 1px rgba(60, 64, 67, 0.15);\n",
              "      fill: #174EA6;\n",
              "    }\n",
              "\n",
              "    [theme=dark] .colab-df-convert {\n",
              "      background-color: #3B4455;\n",
              "      fill: #D2E3FC;\n",
              "    }\n",
              "\n",
              "    [theme=dark] .colab-df-convert:hover {\n",
              "      background-color: #434B5C;\n",
              "      box-shadow: 0px 1px 3px 1px rgba(0, 0, 0, 0.15);\n",
              "      filter: drop-shadow(0px 1px 2px rgba(0, 0, 0, 0.3));\n",
              "      fill: #FFFFFF;\n",
              "    }\n",
              "  </style>\n",
              "\n",
              "      <script>\n",
              "        const buttonEl =\n",
              "          document.querySelector('#df-e5bbe1f0-5ce0-4948-92d4-938718564e30 button.colab-df-convert');\n",
              "        buttonEl.style.display =\n",
              "          google.colab.kernel.accessAllowed ? 'block' : 'none';\n",
              "\n",
              "        async function convertToInteractive(key) {\n",
              "          const element = document.querySelector('#df-e5bbe1f0-5ce0-4948-92d4-938718564e30');\n",
              "          const dataTable =\n",
              "            await google.colab.kernel.invokeFunction('convertToInteractive',\n",
              "                                                     [key], {});\n",
              "          if (!dataTable) return;\n",
              "\n",
              "          const docLinkHtml = 'Like what you see? Visit the ' +\n",
              "            '<a target=\"_blank\" href=https://colab.research.google.com/notebooks/data_table.ipynb>data table notebook</a>'\n",
              "            + ' to learn more about interactive tables.';\n",
              "          element.innerHTML = '';\n",
              "          dataTable['output_type'] = 'display_data';\n",
              "          await google.colab.output.renderOutput(dataTable, element);\n",
              "          const docLink = document.createElement('div');\n",
              "          docLink.innerHTML = docLinkHtml;\n",
              "          element.appendChild(docLink);\n",
              "        }\n",
              "      </script>\n",
              "    </div>\n",
              "  </div>\n",
              "  "
            ]
          },
          "metadata": {},
          "execution_count": 113
        }
      ]
    },
    {
      "cell_type": "code",
      "source": [
        "mean_tot = CI.iloc [2,0]  \n",
        "sd = CI.iloc [2,1]\n",
        "n = CI.iloc [2,2]         \n",
        "z = 1.96  "
      ],
      "metadata": {
        "id": "k9I6p5Lz4sG8"
      },
      "execution_count": 114,
      "outputs": []
    },
    {
      "cell_type": "code",
      "source": [
        "se = sd / np.sqrt(n)"
      ],
      "metadata": {
        "id": "jCSME_sE4u1n"
      },
      "execution_count": 115,
      "outputs": []
    },
    {
      "cell_type": "code",
      "source": [
        "print('lower limit of CI: ',mean_tot - z* se)\n",
        "print('upper limit of CI: ',mean_tot + z* se)"
      ],
      "metadata": {
        "colab": {
          "base_uri": "https://localhost:8080/"
        },
        "id": "xxqzHcCP44Iy",
        "outputId": "d7a928d9-ec7e-4528-efc1-f82190252d23"
      },
      "execution_count": 116,
      "outputs": [
        {
          "output_type": "stream",
          "name": "stdout",
          "text": [
            "lower limit of CI:  1365358.4407589014\n",
            "upper limit of CI:  1401813.0400603444\n"
          ]
        }
      ]
    },
    {
      "cell_type": "markdown",
      "source": [
        "**<h1> Hypothesis Testing <h1>**"
      ],
      "metadata": {
        "id": "liaovnsl1vc0"
      }
    },
    {
      "cell_type": "code",
      "source": [
        "df_borough = df.groupby('BOROUGH', axis=0).sum()\n",
        "df_borough"
      ],
      "metadata": {
        "id": "HKniAZlH12AT",
        "colab": {
          "base_uri": "https://localhost:8080/",
          "height": 238
        },
        "outputId": "3babef4e-f1b9-491c-8033-38da3fb13a46"
      },
      "execution_count": 117,
      "outputs": [
        {
          "output_type": "execute_result",
          "data": {
            "text/plain": [
              "                   BLOCK      LOT  RESIDENTIAL UNITS  COMMERCIAL UNITS  \\\n",
              "BOROUGH                                                                  \n",
              "Bronx           19592358  1370094               8550               398   \n",
              "Brooklyn        61634384  5467058              22069              1182   \n",
              "Manhattan       13889811  8786292               7405               256   \n",
              "Queens         117912456  4145294              22481              3151   \n",
              "Staten Island   18930033  1135385               7121               467   \n",
              "\n",
              "               TOTAL UNITS  LAND SQUARE FEET  GROSS SQUARE FEET    SALE PRICE  \n",
              "BOROUGH                                                                        \n",
              "Bronx                 8947        10882624.0          9701223.0  2.366448e+09  \n",
              "Brooklyn             23341        22044154.0         21859405.0  1.433078e+10  \n",
              "Manhattan             7812        28786546.0         24214077.0  1.702364e+10  \n",
              "Queens               25747        56190605.0         37491916.0  1.071232e+10  \n",
              "Staten Island         7584        28312042.0         12067643.0  2.901969e+09  "
            ],
            "text/html": [
              "\n",
              "  <div id=\"df-ff92e6fc-f861-4198-a78f-56300135f1ca\">\n",
              "    <div class=\"colab-df-container\">\n",
              "      <div>\n",
              "<style scoped>\n",
              "    .dataframe tbody tr th:only-of-type {\n",
              "        vertical-align: middle;\n",
              "    }\n",
              "\n",
              "    .dataframe tbody tr th {\n",
              "        vertical-align: top;\n",
              "    }\n",
              "\n",
              "    .dataframe thead th {\n",
              "        text-align: right;\n",
              "    }\n",
              "</style>\n",
              "<table border=\"1\" class=\"dataframe\">\n",
              "  <thead>\n",
              "    <tr style=\"text-align: right;\">\n",
              "      <th></th>\n",
              "      <th>BLOCK</th>\n",
              "      <th>LOT</th>\n",
              "      <th>RESIDENTIAL UNITS</th>\n",
              "      <th>COMMERCIAL UNITS</th>\n",
              "      <th>TOTAL UNITS</th>\n",
              "      <th>LAND SQUARE FEET</th>\n",
              "      <th>GROSS SQUARE FEET</th>\n",
              "      <th>SALE PRICE</th>\n",
              "    </tr>\n",
              "    <tr>\n",
              "      <th>BOROUGH</th>\n",
              "      <th></th>\n",
              "      <th></th>\n",
              "      <th></th>\n",
              "      <th></th>\n",
              "      <th></th>\n",
              "      <th></th>\n",
              "      <th></th>\n",
              "      <th></th>\n",
              "    </tr>\n",
              "  </thead>\n",
              "  <tbody>\n",
              "    <tr>\n",
              "      <th>Bronx</th>\n",
              "      <td>19592358</td>\n",
              "      <td>1370094</td>\n",
              "      <td>8550</td>\n",
              "      <td>398</td>\n",
              "      <td>8947</td>\n",
              "      <td>10882624.0</td>\n",
              "      <td>9701223.0</td>\n",
              "      <td>2.366448e+09</td>\n",
              "    </tr>\n",
              "    <tr>\n",
              "      <th>Brooklyn</th>\n",
              "      <td>61634384</td>\n",
              "      <td>5467058</td>\n",
              "      <td>22069</td>\n",
              "      <td>1182</td>\n",
              "      <td>23341</td>\n",
              "      <td>22044154.0</td>\n",
              "      <td>21859405.0</td>\n",
              "      <td>1.433078e+10</td>\n",
              "    </tr>\n",
              "    <tr>\n",
              "      <th>Manhattan</th>\n",
              "      <td>13889811</td>\n",
              "      <td>8786292</td>\n",
              "      <td>7405</td>\n",
              "      <td>256</td>\n",
              "      <td>7812</td>\n",
              "      <td>28786546.0</td>\n",
              "      <td>24214077.0</td>\n",
              "      <td>1.702364e+10</td>\n",
              "    </tr>\n",
              "    <tr>\n",
              "      <th>Queens</th>\n",
              "      <td>117912456</td>\n",
              "      <td>4145294</td>\n",
              "      <td>22481</td>\n",
              "      <td>3151</td>\n",
              "      <td>25747</td>\n",
              "      <td>56190605.0</td>\n",
              "      <td>37491916.0</td>\n",
              "      <td>1.071232e+10</td>\n",
              "    </tr>\n",
              "    <tr>\n",
              "      <th>Staten Island</th>\n",
              "      <td>18930033</td>\n",
              "      <td>1135385</td>\n",
              "      <td>7121</td>\n",
              "      <td>467</td>\n",
              "      <td>7584</td>\n",
              "      <td>28312042.0</td>\n",
              "      <td>12067643.0</td>\n",
              "      <td>2.901969e+09</td>\n",
              "    </tr>\n",
              "  </tbody>\n",
              "</table>\n",
              "</div>\n",
              "      <button class=\"colab-df-convert\" onclick=\"convertToInteractive('df-ff92e6fc-f861-4198-a78f-56300135f1ca')\"\n",
              "              title=\"Convert this dataframe to an interactive table.\"\n",
              "              style=\"display:none;\">\n",
              "        \n",
              "  <svg xmlns=\"http://www.w3.org/2000/svg\" height=\"24px\"viewBox=\"0 0 24 24\"\n",
              "       width=\"24px\">\n",
              "    <path d=\"M0 0h24v24H0V0z\" fill=\"none\"/>\n",
              "    <path d=\"M18.56 5.44l.94 2.06.94-2.06 2.06-.94-2.06-.94-.94-2.06-.94 2.06-2.06.94zm-11 1L8.5 8.5l.94-2.06 2.06-.94-2.06-.94L8.5 2.5l-.94 2.06-2.06.94zm10 10l.94 2.06.94-2.06 2.06-.94-2.06-.94-.94-2.06-.94 2.06-2.06.94z\"/><path d=\"M17.41 7.96l-1.37-1.37c-.4-.4-.92-.59-1.43-.59-.52 0-1.04.2-1.43.59L10.3 9.45l-7.72 7.72c-.78.78-.78 2.05 0 2.83L4 21.41c.39.39.9.59 1.41.59.51 0 1.02-.2 1.41-.59l7.78-7.78 2.81-2.81c.8-.78.8-2.07 0-2.86zM5.41 20L4 18.59l7.72-7.72 1.47 1.35L5.41 20z\"/>\n",
              "  </svg>\n",
              "      </button>\n",
              "      \n",
              "  <style>\n",
              "    .colab-df-container {\n",
              "      display:flex;\n",
              "      flex-wrap:wrap;\n",
              "      gap: 12px;\n",
              "    }\n",
              "\n",
              "    .colab-df-convert {\n",
              "      background-color: #E8F0FE;\n",
              "      border: none;\n",
              "      border-radius: 50%;\n",
              "      cursor: pointer;\n",
              "      display: none;\n",
              "      fill: #1967D2;\n",
              "      height: 32px;\n",
              "      padding: 0 0 0 0;\n",
              "      width: 32px;\n",
              "    }\n",
              "\n",
              "    .colab-df-convert:hover {\n",
              "      background-color: #E2EBFA;\n",
              "      box-shadow: 0px 1px 2px rgba(60, 64, 67, 0.3), 0px 1px 3px 1px rgba(60, 64, 67, 0.15);\n",
              "      fill: #174EA6;\n",
              "    }\n",
              "\n",
              "    [theme=dark] .colab-df-convert {\n",
              "      background-color: #3B4455;\n",
              "      fill: #D2E3FC;\n",
              "    }\n",
              "\n",
              "    [theme=dark] .colab-df-convert:hover {\n",
              "      background-color: #434B5C;\n",
              "      box-shadow: 0px 1px 3px 1px rgba(0, 0, 0, 0.15);\n",
              "      filter: drop-shadow(0px 1px 2px rgba(0, 0, 0, 0.3));\n",
              "      fill: #FFFFFF;\n",
              "    }\n",
              "  </style>\n",
              "\n",
              "      <script>\n",
              "        const buttonEl =\n",
              "          document.querySelector('#df-ff92e6fc-f861-4198-a78f-56300135f1ca button.colab-df-convert');\n",
              "        buttonEl.style.display =\n",
              "          google.colab.kernel.accessAllowed ? 'block' : 'none';\n",
              "\n",
              "        async function convertToInteractive(key) {\n",
              "          const element = document.querySelector('#df-ff92e6fc-f861-4198-a78f-56300135f1ca');\n",
              "          const dataTable =\n",
              "            await google.colab.kernel.invokeFunction('convertToInteractive',\n",
              "                                                     [key], {});\n",
              "          if (!dataTable) return;\n",
              "\n",
              "          const docLinkHtml = 'Like what you see? Visit the ' +\n",
              "            '<a target=\"_blank\" href=https://colab.research.google.com/notebooks/data_table.ipynb>data table notebook</a>'\n",
              "            + ' to learn more about interactive tables.';\n",
              "          element.innerHTML = '';\n",
              "          dataTable['output_type'] = 'display_data';\n",
              "          await google.colab.output.renderOutput(dataTable, element);\n",
              "          const docLink = document.createElement('div');\n",
              "          docLink.innerHTML = docLinkHtml;\n",
              "          element.appendChild(docLink);\n",
              "        }\n",
              "      </script>\n",
              "    </div>\n",
              "  </div>\n",
              "  "
            ]
          },
          "metadata": {},
          "execution_count": 117
        }
      ]
    },
    {
      "cell_type": "code",
      "source": [
        "Brooklyn = df[df['BOROUGH']=='Brooklyn']\n",
        "Manhattan = df[df['BOROUGH']=='Manhattan']"
      ],
      "metadata": {
        "id": "3IVrcTUPNPrV"
      },
      "execution_count": 120,
      "outputs": []
    },
    {
      "cell_type": "code",
      "source": [
        "total_unit_Brok = df_borough.iloc[1, 4]\n",
        "mn_Brok = Brooklyn['SALE PRICE'].mean()\n",
        "std_Brok = Brooklyn['SALE PRICE'].std()\n",
        "total_unit_Brok, mn_Brok, std_Brok"
      ],
      "metadata": {
        "colab": {
          "base_uri": "https://localhost:8080/"
        },
        "id": "9nlK6iGNTgBT",
        "outputId": "2f14e629-e007-468d-95ad-2203a01b75b6"
      },
      "execution_count": 126,
      "outputs": [
        {
          "output_type": "execute_result",
          "data": {
            "text/plain": [
              "(23341, 987104.0175644028, 762694.6590919107)"
            ]
          },
          "metadata": {},
          "execution_count": 126
        }
      ]
    },
    {
      "cell_type": "code",
      "source": [
        "total_unit_Mht = df_borough.iloc[2, 4]\n",
        "mu_Mht = Manhattan['SALE PRICE'].mean()\n",
        "std_Mht = Manhattan['SALE PRICE'].std()\n",
        "total_unit_Mht, mu_Mht, std_Mht"
      ],
      "metadata": {
        "colab": {
          "base_uri": "https://localhost:8080/"
        },
        "id": "Bfv4Pqa_ToTk",
        "outputId": "b90ae374-030f-44e6-8261-f2b340f6d3f4"
      },
      "execution_count": 125,
      "outputs": [
        {
          "output_type": "execute_result",
          "data": {
            "text/plain": [
              "(7812, 1383585.740409623, 1031547.9567494899)"
            ]
          },
          "metadata": {},
          "execution_count": 125
        }
      ]
    },
    {
      "cell_type": "code",
      "source": [
        "from statsmodels.stats.weightstats import ztest\n",
        "ztest, pvalue= ztest(Manhattan['SALE PRICE'],Brooklyn['SALE PRICE'])\n",
        "print(\"pvalue: \",float(pvalue))\n",
        "if pvalue < 0.05:\n",
        "    print(\"reject null hypothesis\")\n",
        "else:\n",
        "    print(\"accept null hypothesis\")"
      ],
      "metadata": {
        "colab": {
          "base_uri": "https://localhost:8080/"
        },
        "id": "0c9J59IqUCeh",
        "outputId": "cc3bb492-1245-44fc-9615-9929cea47682"
      },
      "execution_count": 128,
      "outputs": [
        {
          "output_type": "stream",
          "name": "stdout",
          "text": [
            "pvalue:  1.7161688479956248e-285\n",
            "reject null hypothesis\n"
          ]
        }
      ]
    },
    {
      "cell_type": "markdown",
      "source": [
        "**<h1> Overall Analysis <h1>**\n",
        "\n",
        "---\n",
        "\n",
        "Karena nilai *p-value* yang didapat kurang dari alpha (0.05), maka bisa disimpulkan bahwa terdapat perbedaan yang cukup signifikan pada rata-rata harga per unit-nya antara wilayah Brooklyn dengan Manhattan\n"
      ],
      "metadata": {
        "id": "NHAQRWjlYOfm"
      }
    },
    {
      "cell_type": "code",
      "source": [],
      "metadata": {
        "id": "SsGrgKDWWn3f"
      },
      "execution_count": null,
      "outputs": []
    }
  ]
}